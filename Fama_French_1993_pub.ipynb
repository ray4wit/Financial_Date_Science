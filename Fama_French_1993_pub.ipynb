{
  "cells": [
    {
      "cell_type": "markdown",
      "metadata": {
        "id": "view-in-github",
        "colab_type": "text"
      },
      "source": [
        "<a href=\"https://colab.research.google.com/github/ray4wit/Financial_Date_Science/blob/main/Fama_French_1993_pub.ipynb\" target=\"_parent\"><img src=\"https://colab.research.google.com/assets/colab-badge.svg\" alt=\"Open In Colab\"/></a>"
      ]
    },
    {
      "cell_type": "markdown",
      "id": "4af0092c-864c-4844-8051-ef490cc8dc82",
      "metadata": {
        "id": "4af0092c-864c-4844-8051-ef490cc8dc82"
      },
      "source": [
        "# Fama & French (1993) Replication\n",
        "\n",
        "### Background\n",
        "A vital implication of the Capital Asset Pricing Model (CAPM) is that market beta is sufficient to explain the cross-section of expected stock returns. Specifically, the expected returns of individual stock should not be associated with corporate characteristics. Researchers and practitioners have identified many firm characteristics, known as anomalies, that correlate with the cross-section return of stocks over the years. Fama and French (1992, 1993, and 1996) suggested that these anomalies exist because CAPM is inadequate (rather than market inefficiency). Based on early findings, they contend that the CAPM fails to account for risk factors, such as SIZE and VALUE, and suggest an empirical approach for overcoming the systematic mispricing of the CAPM model.  \n",
        "  \n",
        "In particular, they integrate two more factors, HML and SML into the CAPM model:  \n",
        "<div style=\"display: flex; gap:10px;\">\n",
        "  <img src=\"http://drive.google.com/uc?export=download&id=12Kwd8olDPwOqMJedRdswtV59pc0yOOVZ\" alt=\"img\"/>\n",
        "  <p style=\"font-size: 30px;\">\n",
        "    Does this work?\n",
        "  </p>\n",
        "</div>\n",
        "\n",
        "![FFM Formula](http://drive.google.com/uc?export=download&id=12Kwd8olDPwOqMJedRdswtV59pc0yOOVZ)\n",
        "\n",
        "- SMB(Small Minus Big) represents the difference between the returns to portfolios of small- and large-capitalization firms \n",
        "    - A portfolio return from buying stocks of small firms while selling stocks of large firms  \n",
        "- HML(High Minus Low) represents the difference between the returns to portfolios of high and low B/M (Book Value/Market capitalization) ratio firms\n",
        "    - A portfolio return from buying stocks of value firms while selling stocks of growth firms \n",
        "- Thus, the regression coefficients of those two mimicking portfolio factors represent exposures to size and value risk in the same way that beta measures the exposure to market risk.  \n",
        "![FFM Formula](http://drive.google.com/uc?export=download&id=12QyHDHY4AB5Y8QYVkY1CF8dMNWebseU9)\n",
        "\n",
        "### Tasks and Requirements\n",
        "This online course will present an academic replication of Fama and French (1993)'s factor construction in Python and SQL. The following package and data subscriptions are required to excute the program:\n",
        "- Python packages: pandas, sqlite3, datetime, and wrds\n",
        "- WRDS data subscriptions: CRSP, Compustat, and CRSP/Compustat Merged   \n",
        "\n",
        "#### Stock Price Data (CRSP)\n",
        "The Center for Research in Security Prices (CRSP) maintains the most comprehensive collection of stockes listed in major the US stock exchanges and has long been considered as the data source of stock prices in US by academic researchers in financial economic and accounting fields. Fama and French (1993) imposes a set of selection filters over CRSP universe: \n",
        "- A firm must have stocks prices for Dec at year t-1, and Jun at year t\n",
        "- A stock must have a share code of 10 or 11 (Exclude ADRs, ETFs, etc.) and primarily listed in NYSE, AMEX, and Nasdaq \n",
        "> - NYSE at 1925, NYSE MKT(AMEX) in 1962, Nasdaq in 1972, ARCA in 2006, and Bats in 2012  \n",
        ">   - Stocks listed in NYSE MKT and Nasdaq also tended to be smaller than NYSE stocks   \n",
        "> - NYSE breakpoints are always used to ensure consistence and representativeness  \n",
        ">   - “The median NYSE size is then used to split NYSE, Amex and NASDAQ stocks into two groups, small and big (S and B).”   \n",
        "\n",
        "#### Fundamental Data (Compustat) \n",
        "Compustat contains fundamental financial for active and inactive publicly traded US firms back to 1950. It is the sources researchers coventionally used to obtain accounting data items in academic researches. \n",
        "- A firm must have positive book common equity for year t-1 (Fiscal)\n",
        "> - book common equity is measured as \n",
        ">   - stockholders’ equity + balance-sheet deferred taxes - book value of preferred stock\n",
        ">     - depending on availability, the redemption, liquidation, or par value (in that order) is used to estimate the value of preferred stock\n",
        "> - A firm must have appeared in Compustat for two years\n",
        ">   - Survival bias: In early years, Compustat only includes firms with more than two years of historical data when it adds firms (i.e., companies that did not make its third year are excluded) \n",
        "\n",
        "#### Emprical Notes\n",
        "- CRSP and Compustat universe are different, but neither is a superset of the other\n",
        "> - Portfolio Construction is at each Jun, i.e., the portfolio is rebalanced or reconstructed at the last trading date of each June (after trading hours)\n",
        ">   - SMB is based on the Market Capitalization at each June end\n",
        ">   - HML is, however, based on Book value of equity at the end of Fiscal year t-1 (previous Jun to current May), and\n",
        "Market value of equity at the end (December) of calendar year t-1!\n",
        "![FFM Formula](http://drive.google.com/uc?export=download&id=125wcrwP961BBjGilXroPTiK5SkKkxm77)\n"
      ]
    },
    {
      "cell_type": "code",
      "source": [
        "#Install wrds(Wharton Research Data Services) package for data access\n",
        "!pip install wrds"
      ],
      "metadata": {
        "id": "Zmxw-0K1VrsR",
        "colab": {
          "base_uri": "https://localhost:8080/"
        },
        "outputId": "1d59bdd6-a8d7-4249-b4f9-2f075ccb48ee"
      },
      "id": "Zmxw-0K1VrsR",
      "execution_count": null,
      "outputs": [
        {
          "output_type": "stream",
          "name": "stdout",
          "text": [
            "Looking in indexes: https://pypi.org/simple, https://us-python.pkg.dev/colab-wheels/public/simple/\n",
            "Requirement already satisfied: wrds in /usr/local/lib/python3.7/dist-packages (3.1.1)\n",
            "Requirement already satisfied: psycopg2-binary in /usr/local/lib/python3.7/dist-packages (from wrds) (2.9.3)\n",
            "Requirement already satisfied: sqlalchemy in /usr/local/lib/python3.7/dist-packages (from wrds) (1.4.36)\n",
            "Requirement already satisfied: numpy in /usr/local/lib/python3.7/dist-packages (from wrds) (1.21.6)\n",
            "Requirement already satisfied: mock in /usr/local/lib/python3.7/dist-packages (from wrds) (4.0.3)\n",
            "Requirement already satisfied: pandas in /usr/local/lib/python3.7/dist-packages (from wrds) (1.3.5)\n",
            "Requirement already satisfied: python-dateutil>=2.7.3 in /usr/local/lib/python3.7/dist-packages (from pandas->wrds) (2.8.2)\n",
            "Requirement already satisfied: pytz>=2017.3 in /usr/local/lib/python3.7/dist-packages (from pandas->wrds) (2022.1)\n",
            "Requirement already satisfied: six>=1.5 in /usr/local/lib/python3.7/dist-packages (from python-dateutil>=2.7.3->pandas->wrds) (1.15.0)\n",
            "Requirement already satisfied: greenlet!=0.4.17 in /usr/local/lib/python3.7/dist-packages (from sqlalchemy->wrds) (1.1.2)\n",
            "Requirement already satisfied: importlib-metadata in /usr/local/lib/python3.7/dist-packages (from sqlalchemy->wrds) (4.11.3)\n",
            "Requirement already satisfied: typing-extensions>=3.6.4 in /usr/local/lib/python3.7/dist-packages (from importlib-metadata->sqlalchemy->wrds) (4.2.0)\n",
            "Requirement already satisfied: zipp>=0.5 in /usr/local/lib/python3.7/dist-packages (from importlib-metadata->sqlalchemy->wrds) (3.8.0)\n"
          ]
        }
      ]
    },
    {
      "cell_type": "code",
      "execution_count": null,
      "id": "c33014d9-693e-4c0b-907a-843efe523fd7",
      "metadata": {
        "id": "c33014d9-693e-4c0b-907a-843efe523fd7"
      },
      "outputs": [],
      "source": [
        "import pandas as pd\n",
        "from datetime import datetime \n",
        "from pandas.tseries.offsets import MonthEnd\n",
        "\n",
        "import sqlite3, wrds"
      ]
    },
    {
      "cell_type": "code",
      "source": [
        "wrds_sql = wrds.Connection()"
      ],
      "metadata": {
        "colab": {
          "base_uri": "https://localhost:8080/"
        },
        "id": "EgfDUf2TeRsl",
        "outputId": "b0381e83-8680-4829-994b-22f0f1e06935"
      },
      "id": "EgfDUf2TeRsl",
      "execution_count": null,
      "outputs": [
        {
          "output_type": "stream",
          "name": "stdout",
          "text": [
            "Enter your WRDS username [root]:rdai\n",
            "Enter your password:··········\n",
            "WRDS recommends setting up a .pgpass file.\n",
            "Create .pgpass file now [y/n]?: y\n",
            "Created .pgpass file successfully.\n",
            "Loading library list...\n",
            "Done\n"
          ]
        }
      ]
    },
    {
      "cell_type": "markdown",
      "id": "17cfcc9a-706e-4347-bd29-34b4069db35c",
      "metadata": {
        "id": "17cfcc9a-706e-4347-bd29-34b4069db35c"
      },
      "source": [
        "> I generally utilize sqlite3 for data merging over a date range to avoid equivalent but slightly cumbersome code in pandas. In addition, when data size is considerably large relatively to the memory available, sqlite3 allows to use disk as well: `conn = sqlite3.connect('ff_demo.db')`"
      ]
    },
    {
      "cell_type": "code",
      "execution_count": null,
      "id": "a1bd40d5-742e-4403-94ff-afb40966142c",
      "metadata": {
        "id": "a1bd40d5-742e-4403-94ff-afb40966142c"
      },
      "outputs": [],
      "source": [
        "local_sql = sqlite3.connect(':memory:')  "
      ]
    },
    {
      "cell_type": "markdown",
      "id": "c00fe983-36ee-4384-80a0-93e1c06fd1dc",
      "metadata": {
        "id": "c00fe983-36ee-4384-80a0-93e1c06fd1dc"
      },
      "source": [
        "> Compustat Data Retrieval and Cleansing:\n",
        "> - *GVKEY:* a unique identifier and primary key for each company in the Compustat (Global Company Key,)\n",
        "> - *DATADATE:* reporting date for a data record in Compustat, such as fiscal year end.   \n",
        "> - *FYEAR:* fiscal year of the current fiscal year-end month. If the current fiscal year-end month falls in January through May, this item is the current calendar year minus 1 year.\n",
        "> - *INDFMT:* whether a company reports in a Financial Services or Industrial format. By default, INDL is preferred, but FS is only available for certain firms.  \n",
        "> - *DATAFMT:*   how the data is collected and presented. It is default to select STD(Standardized) for Compustat NA data.   \n",
        "> - *POPSRC:* source of the data, POPSRC =D for Domestic (USA, Canada and ADRs), Otherwise POPSRC =I\n",
        "> - *CONSOL:* whether a company's financial statements represent consolidated  (CONSOL = C) or nonconsolidated information.   \n",
        "\n",
        "![FFM Formula](http://drive.google.com/uc?export=view&id=11hvqJlxlhnirGE7c9g5XDRHbvLiQ5upN)"
      ]
    },
    {
      "cell_type": "code",
      "source": [
        "comp = wrds_sql.raw_sql(\"\"\"\n",
        "          select distinct gvkey, indfmt, datafmt, popsrc, consol, fyear, \n",
        "          datadate, PSTKRV, PSTKL, PSTK, sale, at, lt, seq, TXDITC\n",
        "          from comp.funda\n",
        "          order by gvkey, fyear, datadate\n",
        "        \"\"\")"
      ],
      "metadata": {
        "id": "WcWnm54EeM93"
      },
      "id": "WcWnm54EeM93",
      "execution_count": null,
      "outputs": []
    },
    {
      "cell_type": "code",
      "execution_count": null,
      "id": "cbfccdea-e261-422d-a85c-44d95a38abe9",
      "metadata": {
        "id": "cbfccdea-e261-422d-a85c-44d95a38abe9"
      },
      "outputs": [],
      "source": [
        "comp=comp[(comp['indfmt']=='INDL') & (comp['datafmt']=='STD') & (comp['popsrc']=='D') & (comp['consol']=='C')]"
      ]
    },
    {
      "cell_type": "code",
      "execution_count": null,
      "id": "d8832fff-a4b9-4c0e-ba9f-fd5d9344409d",
      "metadata": {
        "id": "d8832fff-a4b9-4c0e-ba9f-fd5d9344409d"
      },
      "outputs": [],
      "source": [
        "comp.set_index('gvkey', inplace=True)\n",
        "comp['datadate']=pd.to_datetime(comp['datadate'])\n",
        "# comp.info()"
      ]
    },
    {
      "cell_type": "code",
      "source": [
        "# comp.loc['001690']"
      ],
      "metadata": {
        "id": "lBxjW6ibgbTf"
      },
      "id": "lBxjW6ibgbTf",
      "execution_count": null,
      "outputs": []
    },
    {
      "cell_type": "code",
      "execution_count": null,
      "id": "0ef9a34c-a6c5-47e6-8bdd-90bb18d7cd7c",
      "metadata": {
        "id": "0ef9a34c-a6c5-47e6-8bdd-90bb18d7cd7c",
        "outputId": "f7da3767-7ec6-4284-cdf0-b7afd6f65975",
        "colab": {
          "base_uri": "https://localhost:8080/",
          "height": 421
        }
      },
      "outputs": [
        {
          "output_type": "execute_result",
          "data": {
            "text/plain": [
              "<matplotlib.axes._subplots.AxesSubplot at 0x7f15ea5fb8d0>"
            ]
          },
          "metadata": {},
          "execution_count": 8
        },
        {
          "output_type": "display_data",
          "data": {
            "text/plain": [
              "<Figure size 1080x432 with 1 Axes>"
            ],
            "image/png": "[encoded data removed]"
          },
          "metadata": {
            "needs_background": "light"
          }
        }
      ],
      "source": [
        "comp.loc['001690'].plot.line('fyear','sale', title='Apple Inc.', ylabel='Sales in $.Mil', xlabel='Fiscal Year', figsize=(15,6))"
      ]
    },
    {
      "cell_type": "markdown",
      "id": "1ca49535-f434-4692-8fad-c1c653d657be",
      "metadata": {
        "id": "1ca49535-f434-4692-8fad-c1c653d657be"
      },
      "source": [
        "> Fama and French (1993): \n",
        "> - “We define book common equity, BE as the COMPUSTAT book value of stockholders equity, plus balance-sheet deferred taxes and investment tax credit (if available), minus the book value of preferred stock.” \n",
        "> - “Depending on availability, we use the redemption, liquidation, or par value (in that order) to estimate the value of preferred stock.”\n",
        "\n",
        "> Preferred Shares Related Variables:\n",
        "> - *PSTKR*: total dollar value of the net number of preferred shares outstanding multiplied by the voluntary liquidation or redemption value per share whichever is greater. \n",
        "> - *PSTKL*: total dollar value of the net number of preferred shares outstanding in the event of involuntary liquidation (such as, bankruptcy) multiplied by the per share involuntary liquidating value.\n",
        "> - *PSTK*: preferred shares at year-end multiplied by the par or stated value per share as presented in the company's Balance Sheet."
      ]
    },
    {
      "cell_type": "code",
      "execution_count": null,
      "id": "f10c40ea-0a73-411f-a073-f027d3bd6c44",
      "metadata": {
        "id": "f10c40ea-0a73-411f-a073-f027d3bd6c44"
      },
      "outputs": [],
      "source": [
        "comp['PreShareValue']=comp[['pstkrv', 'pstkl', 'pstk']].bfill(axis=1).iloc[:, 0].fillna(0) #  use the redemption, liquidation, or par value (in that order)"
      ]
    },
    {
      "cell_type": "markdown",
      "id": "1a2913bd-cada-44fd-9670-188b82e7553e",
      "metadata": {
        "id": "1a2913bd-cada-44fd-9670-188b82e7553e"
      },
      "source": [
        "> More Compustat Variables:\n",
        "> - SEQ:  common and preferred shareholders' interest in the company\n",
        "> - TXDITC: accumulated tax deferrals due to timing differences between the reporting of revenues and expenses for financial statements and tax forms and investment tax credit"
      ]
    },
    {
      "cell_type": "code",
      "execution_count": null,
      "id": "7d0f49a0-a590-4a22-be6d-b05a5f751523",
      "metadata": {
        "id": "7d0f49a0-a590-4a22-be6d-b05a5f751523"
      },
      "outputs": [],
      "source": [
        "comp['be']=comp['seq']+comp['txditc'].fillna(0)-comp['PreShareValue']"
      ]
    },
    {
      "cell_type": "markdown",
      "id": "38b4df1b-caf8-4384-9403-fa260f4983db",
      "metadata": {
        "id": "38b4df1b-caf8-4384-9403-fa260f4983db"
      },
      "source": [
        "> Fama and French (1993):\n",
        "> - “To avoid the survival bias inherent in the way COMPUSTAT adds firms to its tapes, we do not include firms until they have appeared on COMPUSTAT for two years.”\n",
        ">   - Adding this condition would slightly reduce the correlation coefficient between this replication and data from Prof. French's data library, which may imply that the official “Fama French” factors may no longer take consideration of the survivorship bias documented in early papers. \n",
        ">   - In fact, Compustat now updates (and corrects) its data on daily basis, so that this previously documented bias may no longer exist in recent Compustat data.  "
      ]
    },
    {
      "cell_type": "code",
      "execution_count": null,
      "id": "01382f29-d7c4-4a5d-8875-3c88a76ebf41",
      "metadata": {
        "id": "01382f29-d7c4-4a5d-8875-3c88a76ebf41"
      },
      "outputs": [],
      "source": [
        "comp['age']=comp['fyear']-comp.groupby('gvkey').first()['fyear']"
      ]
    },
    {
      "cell_type": "code",
      "execution_count": null,
      "id": "8501012e-1c2c-40c1-860d-897b12897531",
      "metadata": {
        "id": "8501012e-1c2c-40c1-860d-897b12897531"
      },
      "outputs": [],
      "source": [
        "comp=comp[['fyear','datadate', 'be', 'age']]"
      ]
    },
    {
      "cell_type": "markdown",
      "id": "fd80200a-a102-4787-9541-97b89049c159",
      "metadata": {
        "id": "fd80200a-a102-4787-9541-97b89049c159"
      },
      "source": [
        ">Compustat Data Retrieval and Cleansing:\n",
        "> - *PERMNO:* a primary and permnent security identifier within CRSP database, and one company may have several stocks at one time.\n",
        "> - *PERMCO:* a unique permanent company identifier within CRSP database. \n",
        "> - *SHRCD:* a two-digit code describing the type of shares traded. SHRCD=10 or 11 are usually used for US Common Stocks\n",
        "> - *EXCHCD:* a code indicating the exchange on which a security is listed. Normal exchange codes are respectively 1,2, and 3 for NYSE, AMEX and the Nasdaq. \n",
        "> - *PRC:* the closing price or **the negative bid/ask average in the last trading day of a month**.\n",
        "> - *SHROUT:* the number of publicly held shares, recorded in thousands\n",
        "> - *RET:* the change in the total value of an investment in a common stock over some period of time per dollar of initial investment\n",
        "> - *CFACPR:* A factor which takes into account splits so you could calculate a split-adjusted price, but it does not include dividends.\n",
        "> - *DLRET:* Return of the security after it is delisted. It is calculated by comparing a value after delisting against the price on the security's last trading date. "
      ]
    },
    {
      "cell_type": "code",
      "source": [
        "msf = wrds_sql.raw_sql(\"\"\"\n",
        "          select distinct a.permno, a.permco, a.date, ncusip, ticker, comnam, prc, shrout, ret, retx, \n",
        "          dlret, (1 + coalesce(ret,0))*(1 + coalesce(dlret,0)) -1 as retadj, vol, vwretd, ewretd, sprtrn, cfacpr, cfacshr, shrcd, exchcd\n",
        "          from crsp.msf as a inner join crsp.msenames as b\n",
        "          on a.permno=b.permno and date>=NAMEDT and date<=NAMEENDT \n",
        "          and SHRCD in (10, 11, 12, 31) and EXCHCD in (1, 2, 3)\n",
        "          inner join crsp.msi as c\n",
        "          on a.date=c.date\n",
        "          left join crsp.msedelist as d\n",
        "          on a.permno=d.permno and a.date=d.DLSTDT\n",
        "          order by a.permco, a.permno, a.date\n",
        "        \"\"\")"
      ],
      "metadata": {
        "id": "eSSE-_M0hcPL"
      },
      "id": "eSSE-_M0hcPL",
      "execution_count": null,
      "outputs": []
    },
    {
      "cell_type": "code",
      "execution_count": null,
      "id": "1a41b544-54bc-40d0-8963-f1e4e3d4feb0",
      "metadata": {
        "id": "1a41b544-54bc-40d0-8963-f1e4e3d4feb0"
      },
      "outputs": [],
      "source": [
        "msf.set_index('permno', inplace=True)\n",
        "msf['date']=pd.to_datetime(msf['date'])"
      ]
    },
    {
      "cell_type": "code",
      "execution_count": null,
      "id": "0225ca0d-f4e5-40c6-8d17-24d88eb1aafe",
      "metadata": {
        "id": "0225ca0d-f4e5-40c6-8d17-24d88eb1aafe",
        "outputId": "c8f20b0a-e881-4022-f1f0-23d1eef14572",
        "colab": {
          "base_uri": "https://localhost:8080/",
          "height": 400
        }
      },
      "outputs": [
        {
          "output_type": "execute_result",
          "data": {
            "text/plain": [
              "<matplotlib.axes._subplots.AxesSubplot at 0x7f16050ad610>"
            ]
          },
          "metadata": {},
          "execution_count": 40
        },
        {
          "output_type": "display_data",
          "data": {
            "text/plain": [
              "<Figure size 1080x432 with 1 Axes>"
            ],
            "image/png": "[encoded data removed]"
          },
          "metadata": {
            "needs_background": "light"
          }
        }
      ],
      "source": [
        "msf.loc[90857].plot.line('date', 'prc', title='Baidu.com', ylabel='Raw Price', xlabel='Calendar Year', figsize=(15,6))"
      ]
    },
    {
      "cell_type": "code",
      "execution_count": null,
      "id": "549e6c31-b013-4f9e-8510-dd958583bbfb",
      "metadata": {
        "id": "549e6c31-b013-4f9e-8510-dd958583bbfb",
        "outputId": "48617da7-54fb-482c-be70-de1cbc2fc8b1",
        "colab": {
          "base_uri": "https://localhost:8080/",
          "height": 363
        }
      },
      "outputs": [
        {
          "output_type": "execute_result",
          "data": {
            "text/plain": [
              "              date     comnam         prc    shrout  cfacpr  shrcd  exchcd\n",
              "permno                                                                    \n",
              "90857.0 2010-01-29  BAIDU INC  411.709991   26316.0    10.0   31.0     3.0\n",
              "90857.0 2010-02-26  BAIDU INC  518.679993   26316.0    10.0   31.0     3.0\n",
              "90857.0 2010-03-31  BAIDU INC  597.000000   26468.0    10.0   31.0     3.0\n",
              "90857.0 2010-04-30  BAIDU INC  688.960022   26468.0    10.0   31.0     3.0\n",
              "90857.0 2010-05-28  BAIDU INC   73.209999  264680.0     1.0   31.0     3.0\n",
              "90857.0 2010-06-30  BAIDU INC   68.080002  267081.0     1.0   31.0     3.0\n",
              "90857.0 2010-07-30  BAIDU INC   81.410004  267081.0     1.0   31.0     3.0\n",
              "90857.0 2010-08-31  BAIDU INC   78.430000  267081.0     1.0   31.0     3.0\n",
              "90857.0 2010-09-30  BAIDU INC  102.620003  267081.0     1.0   31.0     3.0"
            ],
            "text/html": [
              "\n",
              "  <div id=\"df-a6ec4230-d92e-4582-adcd-403fb47324b4\">\n",
              "    <div class=\"colab-df-container\">\n",
              "      <div>\n",
              "<style scoped>\n",
              "    .dataframe tbody tr th:only-of-type {\n",
              "        vertical-align: middle;\n",
              "    }\n",
              "\n",
              "    .dataframe tbody tr th {\n",
              "        vertical-align: top;\n",
              "    }\n",
              "\n",
              "    .dataframe thead th {\n",
              "        text-align: right;\n",
              "    }\n",
              "</style>\n",
              "<table border=\"1\" class=\"dataframe\">\n",
              "  <thead>\n",
              "    <tr style=\"text-align: right;\">\n",
              "      <th></th>\n",
              "      <th>date</th>\n",
              "      <th>comnam</th>\n",
              "      <th>prc</th>\n",
              "      <th>shrout</th>\n",
              "      <th>cfacpr</th>\n",
              "      <th>shrcd</th>\n",
              "      <th>exchcd</th>\n",
              "    </tr>\n",
              "    <tr>\n",
              "      <th>permno</th>\n",
              "      <th></th>\n",
              "      <th></th>\n",
              "      <th></th>\n",
              "      <th></th>\n",
              "      <th></th>\n",
              "      <th></th>\n",
              "      <th></th>\n",
              "    </tr>\n",
              "  </thead>\n",
              "  <tbody>\n",
              "    <tr>\n",
              "      <th>90857.0</th>\n",
              "      <td>2010-01-29</td>\n",
              "      <td>BAIDU INC</td>\n",
              "      <td>411.709991</td>\n",
              "      <td>26316.0</td>\n",
              "      <td>10.0</td>\n",
              "      <td>31.0</td>\n",
              "      <td>3.0</td>\n",
              "    </tr>\n",
              "    <tr>\n",
              "      <th>90857.0</th>\n",
              "      <td>2010-02-26</td>\n",
              "      <td>BAIDU INC</td>\n",
              "      <td>518.679993</td>\n",
              "      <td>26316.0</td>\n",
              "      <td>10.0</td>\n",
              "      <td>31.0</td>\n",
              "      <td>3.0</td>\n",
              "    </tr>\n",
              "    <tr>\n",
              "      <th>90857.0</th>\n",
              "      <td>2010-03-31</td>\n",
              "      <td>BAIDU INC</td>\n",
              "      <td>597.000000</td>\n",
              "      <td>26468.0</td>\n",
              "      <td>10.0</td>\n",
              "      <td>31.0</td>\n",
              "      <td>3.0</td>\n",
              "    </tr>\n",
              "    <tr>\n",
              "      <th>90857.0</th>\n",
              "      <td>2010-04-30</td>\n",
              "      <td>BAIDU INC</td>\n",
              "      <td>688.960022</td>\n",
              "      <td>26468.0</td>\n",
              "      <td>10.0</td>\n",
              "      <td>31.0</td>\n",
              "      <td>3.0</td>\n",
              "    </tr>\n",
              "    <tr>\n",
              "      <th>90857.0</th>\n",
              "      <td>2010-05-28</td>\n",
              "      <td>BAIDU INC</td>\n",
              "      <td>73.209999</td>\n",
              "      <td>264680.0</td>\n",
              "      <td>1.0</td>\n",
              "      <td>31.0</td>\n",
              "      <td>3.0</td>\n",
              "    </tr>\n",
              "    <tr>\n",
              "      <th>90857.0</th>\n",
              "      <td>2010-06-30</td>\n",
              "      <td>BAIDU INC</td>\n",
              "      <td>68.080002</td>\n",
              "      <td>267081.0</td>\n",
              "      <td>1.0</td>\n",
              "      <td>31.0</td>\n",
              "      <td>3.0</td>\n",
              "    </tr>\n",
              "    <tr>\n",
              "      <th>90857.0</th>\n",
              "      <td>2010-07-30</td>\n",
              "      <td>BAIDU INC</td>\n",
              "      <td>81.410004</td>\n",
              "      <td>267081.0</td>\n",
              "      <td>1.0</td>\n",
              "      <td>31.0</td>\n",
              "      <td>3.0</td>\n",
              "    </tr>\n",
              "    <tr>\n",
              "      <th>90857.0</th>\n",
              "      <td>2010-08-31</td>\n",
              "      <td>BAIDU INC</td>\n",
              "      <td>78.430000</td>\n",
              "      <td>267081.0</td>\n",
              "      <td>1.0</td>\n",
              "      <td>31.0</td>\n",
              "      <td>3.0</td>\n",
              "    </tr>\n",
              "    <tr>\n",
              "      <th>90857.0</th>\n",
              "      <td>2010-09-30</td>\n",
              "      <td>BAIDU INC</td>\n",
              "      <td>102.620003</td>\n",
              "      <td>267081.0</td>\n",
              "      <td>1.0</td>\n",
              "      <td>31.0</td>\n",
              "      <td>3.0</td>\n",
              "    </tr>\n",
              "  </tbody>\n",
              "</table>\n",
              "</div>\n",
              "      <button class=\"colab-df-convert\" onclick=\"convertToInteractive('df-a6ec4230-d92e-4582-adcd-403fb47324b4')\"\n",
              "              title=\"Convert this dataframe to an interactive table.\"\n",
              "              style=\"display:none;\">\n",
              "        \n",
              "  <svg xmlns=\"http://www.w3.org/2000/svg\" height=\"24px\"viewBox=\"0 0 24 24\"\n",
              "       width=\"24px\">\n",
              "    <path d=\"M0 0h24v24H0V0z\" fill=\"none\"/>\n",
              "    <path d=\"M18.56 5.44l.94 2.06.94-2.06 2.06-.94-2.06-.94-.94-2.06-.94 2.06-2.06.94zm-11 1L8.5 8.5l.94-2.06 2.06-.94-2.06-.94L8.5 2.5l-.94 2.06-2.06.94zm10 10l.94 2.06.94-2.06 2.06-.94-2.06-.94-.94-2.06-.94 2.06-2.06.94z\"/><path d=\"M17.41 7.96l-1.37-1.37c-.4-.4-.92-.59-1.43-.59-.52 0-1.04.2-1.43.59L10.3 9.45l-7.72 7.72c-.78.78-.78 2.05 0 2.83L4 21.41c.39.39.9.59 1.41.59.51 0 1.02-.2 1.41-.59l7.78-7.78 2.81-2.81c.8-.78.8-2.07 0-2.86zM5.41 20L4 18.59l7.72-7.72 1.47 1.35L5.41 20z\"/>\n",
              "  </svg>\n",
              "      </button>\n",
              "      \n",
              "  <style>\n",
              "    .colab-df-container {\n",
              "      display:flex;\n",
              "      flex-wrap:wrap;\n",
              "      gap: 12px;\n",
              "    }\n",
              "\n",
              "    .colab-df-convert {\n",
              "      background-color: #E8F0FE;\n",
              "      border: none;\n",
              "      border-radius: 50%;\n",
              "      cursor: pointer;\n",
              "      display: none;\n",
              "      fill: #1967D2;\n",
              "      height: 32px;\n",
              "      padding: 0 0 0 0;\n",
              "      width: 32px;\n",
              "    }\n",
              "\n",
              "    .colab-df-convert:hover {\n",
              "      background-color: #E2EBFA;\n",
              "      box-shadow: 0px 1px 2px rgba(60, 64, 67, 0.3), 0px 1px 3px 1px rgba(60, 64, 67, 0.15);\n",
              "      fill: #174EA6;\n",
              "    }\n",
              "\n",
              "    [theme=dark] .colab-df-convert {\n",
              "      background-color: #3B4455;\n",
              "      fill: #D2E3FC;\n",
              "    }\n",
              "\n",
              "    [theme=dark] .colab-df-convert:hover {\n",
              "      background-color: #434B5C;\n",
              "      box-shadow: 0px 1px 3px 1px rgba(0, 0, 0, 0.15);\n",
              "      filter: drop-shadow(0px 1px 2px rgba(0, 0, 0, 0.3));\n",
              "      fill: #FFFFFF;\n",
              "    }\n",
              "  </style>\n",
              "\n",
              "      <script>\n",
              "        const buttonEl =\n",
              "          document.querySelector('#df-a6ec4230-d92e-4582-adcd-403fb47324b4 button.colab-df-convert');\n",
              "        buttonEl.style.display =\n",
              "          google.colab.kernel.accessAllowed ? 'block' : 'none';\n",
              "\n",
              "        async function convertToInteractive(key) {\n",
              "          const element = document.querySelector('#df-a6ec4230-d92e-4582-adcd-403fb47324b4');\n",
              "          const dataTable =\n",
              "            await google.colab.kernel.invokeFunction('convertToInteractive',\n",
              "                                                     [key], {});\n",
              "          if (!dataTable) return;\n",
              "\n",
              "          const docLinkHtml = 'Like what you see? Visit the ' +\n",
              "            '<a target=\"_blank\" href=https://colab.research.google.com/notebooks/data_table.ipynb>data table notebook</a>'\n",
              "            + ' to learn more about interactive tables.';\n",
              "          element.innerHTML = '';\n",
              "          dataTable['output_type'] = 'display_data';\n",
              "          await google.colab.output.renderOutput(dataTable, element);\n",
              "          const docLink = document.createElement('div');\n",
              "          docLink.innerHTML = docLinkHtml;\n",
              "          element.appendChild(docLink);\n",
              "        }\n",
              "      </script>\n",
              "    </div>\n",
              "  </div>\n",
              "  "
            ]
          },
          "metadata": {},
          "execution_count": 41
        }
      ],
      "source": [
        "msf.loc[90857][(msf.loc[90857]['date']>datetime(2010,1,1)) & (msf.loc[90857]['date']<=datetime(2010,10,1))][['date', 'comnam', 'prc', 'shrout', 'cfacpr', 'shrcd', 'exchcd']]"
      ]
    },
    {
      "cell_type": "code",
      "execution_count": null,
      "id": "ec53ec7e-141b-456b-b1f6-ee34bbcee119",
      "metadata": {
        "id": "ec53ec7e-141b-456b-b1f6-ee34bbcee119"
      },
      "outputs": [],
      "source": [
        "msf['prc_adj']=msf['prc']/msf['cfacpr']"
      ]
    },
    {
      "cell_type": "code",
      "execution_count": null,
      "id": "f9a6766e-b535-49d4-9f1d-db90037e248c",
      "metadata": {
        "id": "f9a6766e-b535-49d4-9f1d-db90037e248c",
        "outputId": "13af03c2-4f12-47dc-fac3-7ce07adabfab",
        "colab": {
          "base_uri": "https://localhost:8080/",
          "height": 400
        }
      },
      "outputs": [
        {
          "output_type": "execute_result",
          "data": {
            "text/plain": [
              "<matplotlib.axes._subplots.AxesSubplot at 0x7f15f984e5d0>"
            ]
          },
          "metadata": {},
          "execution_count": 43
        },
        {
          "output_type": "display_data",
          "data": {
            "text/plain": [
              "<Figure size 1080x432 with 1 Axes>"
            ],
            "image/png": "[encoded data removed]"
          },
          "metadata": {
            "needs_background": "light"
          }
        }
      ],
      "source": [
        "msf.loc[90857].plot('date', 'prc_adj', title='Baidu.com', ylabel='Ajusted Price', xlabel='Calendar Year', figsize=(15,6))"
      ]
    },
    {
      "cell_type": "markdown",
      "id": "bb176569-b417-4c5c-8d52-b9b3575ef70d",
      "metadata": {
        "id": "bb176569-b417-4c5c-8d52-b9b3575ef70d"
      },
      "source": [
        "> We focus on the stocks assigned a share code of 10 or 11 (Exclude ADRs, ETFs, etc.) and primarily listed in NYSE, AMEX, and Nasdaq. Also we start our data from 1962, when CRSP integrated AMEX."
      ]
    },
    {
      "cell_type": "code",
      "execution_count": null,
      "id": "b1659827-d2f1-426c-b838-c526e9940d89",
      "metadata": {
        "id": "b1659827-d2f1-426c-b838-c526e9940d89"
      },
      "outputs": [],
      "source": [
        "msf=msf[(msf['exchcd'].isin([1,2,3])) & msf['shrcd'].isin([10,11]) & (msf['date']>=datetime(1961,12,1))]"
      ]
    },
    {
      "cell_type": "markdown",
      "id": "c29fb759-a7c0-4951-bf95-50bffd7b2a20",
      "metadata": {
        "id": "c29fb759-a7c0-4951-bf95-50bffd7b2a20"
      },
      "source": [
        "> We need to take a few steps to get Market Cap (market value) on firm level to match the Book Value of Equity from Compustat. Note one way to determine primary shares is to use the shares with larger Market Cap, though this approach many not be always right. Stock with ticker GOOG is, for example, Class-C shares (shares without voting rights)\n",
        "\n",
        "![FFM Google](http://drive.google.com/uc?export=view&id=127MaQdyFsQdzEYTz95kRc5e5V66-z6su)"
      ]
    },
    {
      "cell_type": "code",
      "execution_count": null,
      "id": "b20c663a-81c5-496d-8e5f-31a442e33e8f",
      "metadata": {
        "id": "b20c663a-81c5-496d-8e5f-31a442e33e8f"
      },
      "outputs": [],
      "source": [
        "msf['meq']=msf['prc'].abs()*msf['shrout'] # Do not forget to apply absolute operation on CRSP Stock Price"
      ]
    },
    {
      "cell_type": "markdown",
      "id": "d2d08561-99a1-4094-a4ce-041f60549790",
      "metadata": {
        "id": "d2d08561-99a1-4094-a4ce-041f60549790"
      },
      "source": [
        "> ##### SQL solution to calculate market cap on firm level\n",
        "`msf.to_sql('msf', local_sql)`  \n",
        "`sqlcode=\"select distinct *, sum(meq) as meq_sum from msf group by permco, date \"`  \n",
        "`msf=pd.read_sql_query(sqlcode, local_sql)`"
      ]
    },
    {
      "cell_type": "code",
      "execution_count": null,
      "id": "94652dcd-f72d-463b-a2b8-0692154d140e",
      "metadata": {
        "id": "94652dcd-f72d-463b-a2b8-0692154d140e"
      },
      "outputs": [],
      "source": [
        "msf=msf.join(msf.groupby(['permco', 'date'])['meq'].sum(), on=['permco', 'date'], rsuffix='_sum')"
      ]
    },
    {
      "cell_type": "code",
      "execution_count": null,
      "id": "48417f2b-379e-49d4-8a25-b73cc33cefa3",
      "metadata": {
        "id": "48417f2b-379e-49d4-8a25-b73cc33cefa3"
      },
      "outputs": [],
      "source": [
        "msf=msf.rename({'meq_sum': 'me'}, axis=1) "
      ]
    },
    {
      "cell_type": "markdown",
      "id": "ef2fa579-0c8c-4ce4-b7fc-ed451f2d12a2",
      "metadata": {
        "id": "ef2fa579-0c8c-4ce4-b7fc-ed451f2d12a2"
      },
      "source": [
        "> Simple Rebalance (Academic Paper Rebalance)\n",
        "> - The code below is conceptually the most straightforward solution to construct a value-weighted portfolio\n",
        "> - All dividends are assumed to be reinvested proportionally based on the market value of stocks at the previous month end. "
      ]
    },
    {
      "cell_type": "code",
      "execution_count": null,
      "id": "3db58ece-7df5-45e8-b9f8-368beb8d2760",
      "metadata": {
        "id": "3db58ece-7df5-45e8-b9f8-368beb8d2760"
      },
      "outputs": [],
      "source": [
        "msf['thisMonthEnd']=msf['date']+ MonthEnd(0) # Push the last trading day of month to the last calendar month end\n",
        "msf['nextMonthEnd']=msf['thisMonthEnd'] + MonthEnd(1) # Generate a new column containing next calendar month end"
      ]
    },
    {
      "cell_type": "code",
      "execution_count": null,
      "id": "2f06f9e3-dc3f-4a56-95d3-0465d3104443",
      "metadata": {
        "id": "2f06f9e3-dc3f-4a56-95d3-0465d3104443"
      },
      "outputs": [],
      "source": [
        "msf=pd.merge(msf, msf[['nextMonthEnd','meq']], left_on=['permno','thisMonthEnd'], right_on=[\"permno\", \"nextMonthEnd\"], how='left', suffixes=(\"\",\"_lag\"))"
      ]
    },
    {
      "cell_type": "code",
      "execution_count": null,
      "id": "a3606d04-66c7-4ceb-b9dd-57d88ee817cc",
      "metadata": {
        "id": "a3606d04-66c7-4ceb-b9dd-57d88ee817cc"
      },
      "outputs": [],
      "source": [
        "msf['date']=msf['thisMonthEnd']\n",
        "msf=msf.rename({'meq_lag': 'weight_port'}, axis=1) \n",
        "msf=msf[['date', 'ret', 'retadj', 'shrcd', 'exchcd', 'me', 'weight_port', 'nextMonthEnd']]"
      ]
    },
    {
      "cell_type": "code",
      "execution_count": null,
      "id": "e03ce5b1-0e6e-4d41-8e4b-b3fedf4fb572",
      "metadata": {
        "id": "e03ce5b1-0e6e-4d41-8e4b-b3fedf4fb572",
        "outputId": "76208ae3-98ff-4995-9846-b3e514dfd0dd",
        "colab": {
          "base_uri": "https://localhost:8080/",
          "height": 238
        }
      },
      "outputs": [
        {
          "output_type": "execute_result",
          "data": {
            "text/plain": [
              "              date       ret    retadj  shrcd  exchcd         me  weight_port  \\\n",
              "permno                                                                          \n",
              "12160.0 1977-01-31       NaN  0.000000   10.0     3.0  6412.5000          NaN   \n",
              "12160.0 1977-02-28  0.083333  0.083333   10.0     3.0  6946.8750    6412.5000   \n",
              "12160.0 1977-03-31 -0.128205 -0.128205   10.0     3.0  6056.2500    6946.8750   \n",
              "12160.0 1977-04-30  0.073529  0.073529   10.0     3.0  6501.5625    6056.2500   \n",
              "12160.0 1977-05-31  0.054795  0.054795   10.0     3.0  6857.8125    6501.5625   \n",
              "\n",
              "        nextMonthEnd  \n",
              "permno                \n",
              "12160.0   1977-02-28  \n",
              "12160.0   1977-03-31  \n",
              "12160.0   1977-04-30  \n",
              "12160.0   1977-05-31  \n",
              "12160.0   1977-06-30  "
            ],
            "text/html": [
              "\n",
              "  <div id=\"df-c2d60cf2-9ed6-4669-85fa-719fb04ce37b\">\n",
              "    <div class=\"colab-df-container\">\n",
              "      <div>\n",
              "<style scoped>\n",
              "    .dataframe tbody tr th:only-of-type {\n",
              "        vertical-align: middle;\n",
              "    }\n",
              "\n",
              "    .dataframe tbody tr th {\n",
              "        vertical-align: top;\n",
              "    }\n",
              "\n",
              "    .dataframe thead th {\n",
              "        text-align: right;\n",
              "    }\n",
              "</style>\n",
              "<table border=\"1\" class=\"dataframe\">\n",
              "  <thead>\n",
              "    <tr style=\"text-align: right;\">\n",
              "      <th></th>\n",
              "      <th>date</th>\n",
              "      <th>ret</th>\n",
              "      <th>retadj</th>\n",
              "      <th>shrcd</th>\n",
              "      <th>exchcd</th>\n",
              "      <th>me</th>\n",
              "      <th>weight_port</th>\n",
              "      <th>nextMonthEnd</th>\n",
              "    </tr>\n",
              "    <tr>\n",
              "      <th>permno</th>\n",
              "      <th></th>\n",
              "      <th></th>\n",
              "      <th></th>\n",
              "      <th></th>\n",
              "      <th></th>\n",
              "      <th></th>\n",
              "      <th></th>\n",
              "      <th></th>\n",
              "    </tr>\n",
              "  </thead>\n",
              "  <tbody>\n",
              "    <tr>\n",
              "      <th>12160.0</th>\n",
              "      <td>1977-01-31</td>\n",
              "      <td>NaN</td>\n",
              "      <td>0.000000</td>\n",
              "      <td>10.0</td>\n",
              "      <td>3.0</td>\n",
              "      <td>6412.5000</td>\n",
              "      <td>NaN</td>\n",
              "      <td>1977-02-28</td>\n",
              "    </tr>\n",
              "    <tr>\n",
              "      <th>12160.0</th>\n",
              "      <td>1977-02-28</td>\n",
              "      <td>0.083333</td>\n",
              "      <td>0.083333</td>\n",
              "      <td>10.0</td>\n",
              "      <td>3.0</td>\n",
              "      <td>6946.8750</td>\n",
              "      <td>6412.5000</td>\n",
              "      <td>1977-03-31</td>\n",
              "    </tr>\n",
              "    <tr>\n",
              "      <th>12160.0</th>\n",
              "      <td>1977-03-31</td>\n",
              "      <td>-0.128205</td>\n",
              "      <td>-0.128205</td>\n",
              "      <td>10.0</td>\n",
              "      <td>3.0</td>\n",
              "      <td>6056.2500</td>\n",
              "      <td>6946.8750</td>\n",
              "      <td>1977-04-30</td>\n",
              "    </tr>\n",
              "    <tr>\n",
              "      <th>12160.0</th>\n",
              "      <td>1977-04-30</td>\n",
              "      <td>0.073529</td>\n",
              "      <td>0.073529</td>\n",
              "      <td>10.0</td>\n",
              "      <td>3.0</td>\n",
              "      <td>6501.5625</td>\n",
              "      <td>6056.2500</td>\n",
              "      <td>1977-05-31</td>\n",
              "    </tr>\n",
              "    <tr>\n",
              "      <th>12160.0</th>\n",
              "      <td>1977-05-31</td>\n",
              "      <td>0.054795</td>\n",
              "      <td>0.054795</td>\n",
              "      <td>10.0</td>\n",
              "      <td>3.0</td>\n",
              "      <td>6857.8125</td>\n",
              "      <td>6501.5625</td>\n",
              "      <td>1977-06-30</td>\n",
              "    </tr>\n",
              "  </tbody>\n",
              "</table>\n",
              "</div>\n",
              "      <button class=\"colab-df-convert\" onclick=\"convertToInteractive('df-c2d60cf2-9ed6-4669-85fa-719fb04ce37b')\"\n",
              "              title=\"Convert this dataframe to an interactive table.\"\n",
              "              style=\"display:none;\">\n",
              "        \n",
              "  <svg xmlns=\"http://www.w3.org/2000/svg\" height=\"24px\"viewBox=\"0 0 24 24\"\n",
              "       width=\"24px\">\n",
              "    <path d=\"M0 0h24v24H0V0z\" fill=\"none\"/>\n",
              "    <path d=\"M18.56 5.44l.94 2.06.94-2.06 2.06-.94-2.06-.94-.94-2.06-.94 2.06-2.06.94zm-11 1L8.5 8.5l.94-2.06 2.06-.94-2.06-.94L8.5 2.5l-.94 2.06-2.06.94zm10 10l.94 2.06.94-2.06 2.06-.94-2.06-.94-.94-2.06-.94 2.06-2.06.94z\"/><path d=\"M17.41 7.96l-1.37-1.37c-.4-.4-.92-.59-1.43-.59-.52 0-1.04.2-1.43.59L10.3 9.45l-7.72 7.72c-.78.78-.78 2.05 0 2.83L4 21.41c.39.39.9.59 1.41.59.51 0 1.02-.2 1.41-.59l7.78-7.78 2.81-2.81c.8-.78.8-2.07 0-2.86zM5.41 20L4 18.59l7.72-7.72 1.47 1.35L5.41 20z\"/>\n",
              "  </svg>\n",
              "      </button>\n",
              "      \n",
              "  <style>\n",
              "    .colab-df-container {\n",
              "      display:flex;\n",
              "      flex-wrap:wrap;\n",
              "      gap: 12px;\n",
              "    }\n",
              "\n",
              "    .colab-df-convert {\n",
              "      background-color: #E8F0FE;\n",
              "      border: none;\n",
              "      border-radius: 50%;\n",
              "      cursor: pointer;\n",
              "      display: none;\n",
              "      fill: #1967D2;\n",
              "      height: 32px;\n",
              "      padding: 0 0 0 0;\n",
              "      width: 32px;\n",
              "    }\n",
              "\n",
              "    .colab-df-convert:hover {\n",
              "      background-color: #E2EBFA;\n",
              "      box-shadow: 0px 1px 2px rgba(60, 64, 67, 0.3), 0px 1px 3px 1px rgba(60, 64, 67, 0.15);\n",
              "      fill: #174EA6;\n",
              "    }\n",
              "\n",
              "    [theme=dark] .colab-df-convert {\n",
              "      background-color: #3B4455;\n",
              "      fill: #D2E3FC;\n",
              "    }\n",
              "\n",
              "    [theme=dark] .colab-df-convert:hover {\n",
              "      background-color: #434B5C;\n",
              "      box-shadow: 0px 1px 3px 1px rgba(0, 0, 0, 0.15);\n",
              "      filter: drop-shadow(0px 1px 2px rgba(0, 0, 0, 0.3));\n",
              "      fill: #FFFFFF;\n",
              "    }\n",
              "  </style>\n",
              "\n",
              "      <script>\n",
              "        const buttonEl =\n",
              "          document.querySelector('#df-c2d60cf2-9ed6-4669-85fa-719fb04ce37b button.colab-df-convert');\n",
              "        buttonEl.style.display =\n",
              "          google.colab.kernel.accessAllowed ? 'block' : 'none';\n",
              "\n",
              "        async function convertToInteractive(key) {\n",
              "          const element = document.querySelector('#df-c2d60cf2-9ed6-4669-85fa-719fb04ce37b');\n",
              "          const dataTable =\n",
              "            await google.colab.kernel.invokeFunction('convertToInteractive',\n",
              "                                                     [key], {});\n",
              "          if (!dataTable) return;\n",
              "\n",
              "          const docLinkHtml = 'Like what you see? Visit the ' +\n",
              "            '<a target=\"_blank\" href=https://colab.research.google.com/notebooks/data_table.ipynb>data table notebook</a>'\n",
              "            + ' to learn more about interactive tables.';\n",
              "          element.innerHTML = '';\n",
              "          dataTable['output_type'] = 'display_data';\n",
              "          await google.colab.output.renderOutput(dataTable, element);\n",
              "          const docLink = document.createElement('div');\n",
              "          docLink.innerHTML = docLinkHtml;\n",
              "          element.appendChild(docLink);\n",
              "        }\n",
              "      </script>\n",
              "    </div>\n",
              "  </div>\n",
              "  "
            ]
          },
          "metadata": {},
          "execution_count": 51
        }
      ],
      "source": [
        "msf.head()"
      ]
    },
    {
      "cell_type": "markdown",
      "id": "1ab7856d-fe69-436e-a4ba-1195592abe69",
      "metadata": {
        "id": "1ab7856d-fe69-436e-a4ba-1195592abe69"
      },
      "source": [
        "> Portfolio Reconstruction Alignment\n",
        "> - A firm must have stocks prices for Dec at year t-1, and Jun at year t\n",
        "![FFM Formula](http://drive.google.com/uc?export=view&id=125wcrwP961BBjGilXroPTiK5SkKkxm77)"
      ]
    },
    {
      "cell_type": "code",
      "execution_count": null,
      "id": "8c7f7e8a-ecfb-4416-a08d-2e466411dc47",
      "metadata": {
        "id": "8c7f7e8a-ecfb-4416-a08d-2e466411dc47"
      },
      "outputs": [],
      "source": [
        "msf_dec=msf[msf[\"date\"].dt.month==12]\n",
        "msf_jun=msf[msf[\"date\"].dt.month==6].copy()"
      ]
    },
    {
      "cell_type": "code",
      "execution_count": null,
      "id": "173de212-74f4-4cad-a2d3-d72dc26e4f9d",
      "metadata": {
        "id": "173de212-74f4-4cad-a2d3-d72dc26e4f9d"
      },
      "outputs": [],
      "source": [
        "msf_jun['lastDec']=msf_jun['date']+MonthEnd(-6) # Create a New Column to push this Jun end to Previous Dec End"
      ]
    },
    {
      "cell_type": "code",
      "execution_count": null,
      "id": "3b043053-f095-461f-8d14-44f15eff9aa4",
      "metadata": {
        "id": "3b043053-f095-461f-8d14-44f15eff9aa4"
      },
      "outputs": [],
      "source": [
        "msf_jun=pd.merge(msf_jun, msf_dec[[\"date\", 'me']], left_on=['permno','lastDec'], right_on=[\"permno\", \"date\"], suffixes=(\"\",\"_dec\"))"
      ]
    },
    {
      "cell_type": "code",
      "execution_count": null,
      "id": "28c7a74f-5bd8-410a-94ed-7a39e09bb0a8",
      "metadata": {
        "id": "28c7a74f-5bd8-410a-94ed-7a39e09bb0a8",
        "outputId": "e3a7e59f-cdbd-442e-e91c-efd77674cccb",
        "colab": {
          "base_uri": "https://localhost:8080/",
          "height": 175
        }
      },
      "outputs": [
        {
          "output_type": "execute_result",
          "data": {
            "text/plain": [
              "              date       ret    retadj  shrcd  exchcd         me  weight_port  \\\n",
              "permno                                                                          \n",
              "12160.0 1978-06-30  0.044444  0.044444   10.0     3.0   8371.875     8015.625   \n",
              "12160.0 1979-06-30  0.032258  0.032258   10.0     3.0  11400.000    11043.750   \n",
              "12160.0 1980-06-30  0.022727  0.022727   10.0     3.0  15682.500    15334.000   \n",
              "\n",
              "        nextMonthEnd    lastDec   date_dec      me_dec  \n",
              "permno                                                  \n",
              "12160.0   1978-07-31 1977-12-31 1977-12-31   6946.8750  \n",
              "12160.0   1979-07-31 1978-12-31 1978-12-31   8817.1875  \n",
              "12160.0   1980-07-31 1979-12-31 1979-12-31  17837.2500  "
            ],
            "text/html": [
              "\n",
              "  <div id=\"df-52570a39-346f-4d03-9704-23cba428d200\">\n",
              "    <div class=\"colab-df-container\">\n",
              "      <div>\n",
              "<style scoped>\n",
              "    .dataframe tbody tr th:only-of-type {\n",
              "        vertical-align: middle;\n",
              "    }\n",
              "\n",
              "    .dataframe tbody tr th {\n",
              "        vertical-align: top;\n",
              "    }\n",
              "\n",
              "    .dataframe thead th {\n",
              "        text-align: right;\n",
              "    }\n",
              "</style>\n",
              "<table border=\"1\" class=\"dataframe\">\n",
              "  <thead>\n",
              "    <tr style=\"text-align: right;\">\n",
              "      <th></th>\n",
              "      <th>date</th>\n",
              "      <th>ret</th>\n",
              "      <th>retadj</th>\n",
              "      <th>shrcd</th>\n",
              "      <th>exchcd</th>\n",
              "      <th>me</th>\n",
              "      <th>weight_port</th>\n",
              "      <th>nextMonthEnd</th>\n",
              "      <th>lastDec</th>\n",
              "      <th>date_dec</th>\n",
              "      <th>me_dec</th>\n",
              "    </tr>\n",
              "    <tr>\n",
              "      <th>permno</th>\n",
              "      <th></th>\n",
              "      <th></th>\n",
              "      <th></th>\n",
              "      <th></th>\n",
              "      <th></th>\n",
              "      <th></th>\n",
              "      <th></th>\n",
              "      <th></th>\n",
              "      <th></th>\n",
              "      <th></th>\n",
              "      <th></th>\n",
              "    </tr>\n",
              "  </thead>\n",
              "  <tbody>\n",
              "    <tr>\n",
              "      <th>12160.0</th>\n",
              "      <td>1978-06-30</td>\n",
              "      <td>0.044444</td>\n",
              "      <td>0.044444</td>\n",
              "      <td>10.0</td>\n",
              "      <td>3.0</td>\n",
              "      <td>8371.875</td>\n",
              "      <td>8015.625</td>\n",
              "      <td>1978-07-31</td>\n",
              "      <td>1977-12-31</td>\n",
              "      <td>1977-12-31</td>\n",
              "      <td>6946.8750</td>\n",
              "    </tr>\n",
              "    <tr>\n",
              "      <th>12160.0</th>\n",
              "      <td>1979-06-30</td>\n",
              "      <td>0.032258</td>\n",
              "      <td>0.032258</td>\n",
              "      <td>10.0</td>\n",
              "      <td>3.0</td>\n",
              "      <td>11400.000</td>\n",
              "      <td>11043.750</td>\n",
              "      <td>1979-07-31</td>\n",
              "      <td>1978-12-31</td>\n",
              "      <td>1978-12-31</td>\n",
              "      <td>8817.1875</td>\n",
              "    </tr>\n",
              "    <tr>\n",
              "      <th>12160.0</th>\n",
              "      <td>1980-06-30</td>\n",
              "      <td>0.022727</td>\n",
              "      <td>0.022727</td>\n",
              "      <td>10.0</td>\n",
              "      <td>3.0</td>\n",
              "      <td>15682.500</td>\n",
              "      <td>15334.000</td>\n",
              "      <td>1980-07-31</td>\n",
              "      <td>1979-12-31</td>\n",
              "      <td>1979-12-31</td>\n",
              "      <td>17837.2500</td>\n",
              "    </tr>\n",
              "  </tbody>\n",
              "</table>\n",
              "</div>\n",
              "      <button class=\"colab-df-convert\" onclick=\"convertToInteractive('df-52570a39-346f-4d03-9704-23cba428d200')\"\n",
              "              title=\"Convert this dataframe to an interactive table.\"\n",
              "              style=\"display:none;\">\n",
              "        \n",
              "  <svg xmlns=\"http://www.w3.org/2000/svg\" height=\"24px\"viewBox=\"0 0 24 24\"\n",
              "       width=\"24px\">\n",
              "    <path d=\"M0 0h24v24H0V0z\" fill=\"none\"/>\n",
              "    <path d=\"M18.56 5.44l.94 2.06.94-2.06 2.06-.94-2.06-.94-.94-2.06-.94 2.06-2.06.94zm-11 1L8.5 8.5l.94-2.06 2.06-.94-2.06-.94L8.5 2.5l-.94 2.06-2.06.94zm10 10l.94 2.06.94-2.06 2.06-.94-2.06-.94-.94-2.06-.94 2.06-2.06.94z\"/><path d=\"M17.41 7.96l-1.37-1.37c-.4-.4-.92-.59-1.43-.59-.52 0-1.04.2-1.43.59L10.3 9.45l-7.72 7.72c-.78.78-.78 2.05 0 2.83L4 21.41c.39.39.9.59 1.41.59.51 0 1.02-.2 1.41-.59l7.78-7.78 2.81-2.81c.8-.78.8-2.07 0-2.86zM5.41 20L4 18.59l7.72-7.72 1.47 1.35L5.41 20z\"/>\n",
              "  </svg>\n",
              "      </button>\n",
              "      \n",
              "  <style>\n",
              "    .colab-df-container {\n",
              "      display:flex;\n",
              "      flex-wrap:wrap;\n",
              "      gap: 12px;\n",
              "    }\n",
              "\n",
              "    .colab-df-convert {\n",
              "      background-color: #E8F0FE;\n",
              "      border: none;\n",
              "      border-radius: 50%;\n",
              "      cursor: pointer;\n",
              "      display: none;\n",
              "      fill: #1967D2;\n",
              "      height: 32px;\n",
              "      padding: 0 0 0 0;\n",
              "      width: 32px;\n",
              "    }\n",
              "\n",
              "    .colab-df-convert:hover {\n",
              "      background-color: #E2EBFA;\n",
              "      box-shadow: 0px 1px 2px rgba(60, 64, 67, 0.3), 0px 1px 3px 1px rgba(60, 64, 67, 0.15);\n",
              "      fill: #174EA6;\n",
              "    }\n",
              "\n",
              "    [theme=dark] .colab-df-convert {\n",
              "      background-color: #3B4455;\n",
              "      fill: #D2E3FC;\n",
              "    }\n",
              "\n",
              "    [theme=dark] .colab-df-convert:hover {\n",
              "      background-color: #434B5C;\n",
              "      box-shadow: 0px 1px 3px 1px rgba(0, 0, 0, 0.15);\n",
              "      filter: drop-shadow(0px 1px 2px rgba(0, 0, 0, 0.3));\n",
              "      fill: #FFFFFF;\n",
              "    }\n",
              "  </style>\n",
              "\n",
              "      <script>\n",
              "        const buttonEl =\n",
              "          document.querySelector('#df-52570a39-346f-4d03-9704-23cba428d200 button.colab-df-convert');\n",
              "        buttonEl.style.display =\n",
              "          google.colab.kernel.accessAllowed ? 'block' : 'none';\n",
              "\n",
              "        async function convertToInteractive(key) {\n",
              "          const element = document.querySelector('#df-52570a39-346f-4d03-9704-23cba428d200');\n",
              "          const dataTable =\n",
              "            await google.colab.kernel.invokeFunction('convertToInteractive',\n",
              "                                                     [key], {});\n",
              "          if (!dataTable) return;\n",
              "\n",
              "          const docLinkHtml = 'Like what you see? Visit the ' +\n",
              "            '<a target=\"_blank\" href=https://colab.research.google.com/notebooks/data_table.ipynb>data table notebook</a>'\n",
              "            + ' to learn more about interactive tables.';\n",
              "          element.innerHTML = '';\n",
              "          dataTable['output_type'] = 'display_data';\n",
              "          await google.colab.output.renderOutput(dataTable, element);\n",
              "          const docLink = document.createElement('div');\n",
              "          docLink.innerHTML = docLinkHtml;\n",
              "          element.appendChild(docLink);\n",
              "        }\n",
              "      </script>\n",
              "    </div>\n",
              "  </div>\n",
              "  "
            ]
          },
          "metadata": {},
          "execution_count": 55
        }
      ],
      "source": [
        "msf_jun.head(3)"
      ]
    },
    {
      "cell_type": "code",
      "execution_count": null,
      "id": "80c8e933-4718-4a06-afe7-c2b8eff0cccc",
      "metadata": {
        "id": "80c8e933-4718-4a06-afe7-c2b8eff0cccc"
      },
      "outputs": [],
      "source": [
        "msf_jun=msf_jun.rename({'me': 'jun_me', 'me_dec': 'dec_me'}, axis=1) "
      ]
    },
    {
      "cell_type": "code",
      "execution_count": null,
      "id": "aa771e34-87f8-4604-807b-eb00c3179da3",
      "metadata": {
        "id": "aa771e34-87f8-4604-807b-eb00c3179da3"
      },
      "outputs": [],
      "source": [
        "msf_jun=msf_jun[[\"date\", \"exchcd\", \"shrcd\", \"jun_me\", \"dec_me\"]]"
      ]
    },
    {
      "cell_type": "code",
      "execution_count": null,
      "id": "818f679f-4a97-4623-ad22-a6e6f372d02d",
      "metadata": {
        "id": "818f679f-4a97-4623-ad22-a6e6f372d02d",
        "outputId": "109a2614-17a1-4833-8901-8f477f8579f1",
        "colab": {
          "base_uri": "https://localhost:8080/",
          "height": 175
        }
      },
      "outputs": [
        {
          "output_type": "execute_result",
          "data": {
            "text/plain": [
              "              date  exchcd  shrcd     jun_me      dec_me\n",
              "permno                                                  \n",
              "12160.0 1978-06-30     3.0   10.0   8371.875   6946.8750\n",
              "12160.0 1979-06-30     3.0   10.0  11400.000   8817.1875\n",
              "12160.0 1980-06-30     3.0   10.0  15682.500  17837.2500"
            ],
            "text/html": [
              "\n",
              "  <div id=\"df-4712cf31-051d-4c69-9477-5409a650993d\">\n",
              "    <div class=\"colab-df-container\">\n",
              "      <div>\n",
              "<style scoped>\n",
              "    .dataframe tbody tr th:only-of-type {\n",
              "        vertical-align: middle;\n",
              "    }\n",
              "\n",
              "    .dataframe tbody tr th {\n",
              "        vertical-align: top;\n",
              "    }\n",
              "\n",
              "    .dataframe thead th {\n",
              "        text-align: right;\n",
              "    }\n",
              "</style>\n",
              "<table border=\"1\" class=\"dataframe\">\n",
              "  <thead>\n",
              "    <tr style=\"text-align: right;\">\n",
              "      <th></th>\n",
              "      <th>date</th>\n",
              "      <th>exchcd</th>\n",
              "      <th>shrcd</th>\n",
              "      <th>jun_me</th>\n",
              "      <th>dec_me</th>\n",
              "    </tr>\n",
              "    <tr>\n",
              "      <th>permno</th>\n",
              "      <th></th>\n",
              "      <th></th>\n",
              "      <th></th>\n",
              "      <th></th>\n",
              "      <th></th>\n",
              "    </tr>\n",
              "  </thead>\n",
              "  <tbody>\n",
              "    <tr>\n",
              "      <th>12160.0</th>\n",
              "      <td>1978-06-30</td>\n",
              "      <td>3.0</td>\n",
              "      <td>10.0</td>\n",
              "      <td>8371.875</td>\n",
              "      <td>6946.8750</td>\n",
              "    </tr>\n",
              "    <tr>\n",
              "      <th>12160.0</th>\n",
              "      <td>1979-06-30</td>\n",
              "      <td>3.0</td>\n",
              "      <td>10.0</td>\n",
              "      <td>11400.000</td>\n",
              "      <td>8817.1875</td>\n",
              "    </tr>\n",
              "    <tr>\n",
              "      <th>12160.0</th>\n",
              "      <td>1980-06-30</td>\n",
              "      <td>3.0</td>\n",
              "      <td>10.0</td>\n",
              "      <td>15682.500</td>\n",
              "      <td>17837.2500</td>\n",
              "    </tr>\n",
              "  </tbody>\n",
              "</table>\n",
              "</div>\n",
              "      <button class=\"colab-df-convert\" onclick=\"convertToInteractive('df-4712cf31-051d-4c69-9477-5409a650993d')\"\n",
              "              title=\"Convert this dataframe to an interactive table.\"\n",
              "              style=\"display:none;\">\n",
              "        \n",
              "  <svg xmlns=\"http://www.w3.org/2000/svg\" height=\"24px\"viewBox=\"0 0 24 24\"\n",
              "       width=\"24px\">\n",
              "    <path d=\"M0 0h24v24H0V0z\" fill=\"none\"/>\n",
              "    <path d=\"M18.56 5.44l.94 2.06.94-2.06 2.06-.94-2.06-.94-.94-2.06-.94 2.06-2.06.94zm-11 1L8.5 8.5l.94-2.06 2.06-.94-2.06-.94L8.5 2.5l-.94 2.06-2.06.94zm10 10l.94 2.06.94-2.06 2.06-.94-2.06-.94-.94-2.06-.94 2.06-2.06.94z\"/><path d=\"M17.41 7.96l-1.37-1.37c-.4-.4-.92-.59-1.43-.59-.52 0-1.04.2-1.43.59L10.3 9.45l-7.72 7.72c-.78.78-.78 2.05 0 2.83L4 21.41c.39.39.9.59 1.41.59.51 0 1.02-.2 1.41-.59l7.78-7.78 2.81-2.81c.8-.78.8-2.07 0-2.86zM5.41 20L4 18.59l7.72-7.72 1.47 1.35L5.41 20z\"/>\n",
              "  </svg>\n",
              "      </button>\n",
              "      \n",
              "  <style>\n",
              "    .colab-df-container {\n",
              "      display:flex;\n",
              "      flex-wrap:wrap;\n",
              "      gap: 12px;\n",
              "    }\n",
              "\n",
              "    .colab-df-convert {\n",
              "      background-color: #E8F0FE;\n",
              "      border: none;\n",
              "      border-radius: 50%;\n",
              "      cursor: pointer;\n",
              "      display: none;\n",
              "      fill: #1967D2;\n",
              "      height: 32px;\n",
              "      padding: 0 0 0 0;\n",
              "      width: 32px;\n",
              "    }\n",
              "\n",
              "    .colab-df-convert:hover {\n",
              "      background-color: #E2EBFA;\n",
              "      box-shadow: 0px 1px 2px rgba(60, 64, 67, 0.3), 0px 1px 3px 1px rgba(60, 64, 67, 0.15);\n",
              "      fill: #174EA6;\n",
              "    }\n",
              "\n",
              "    [theme=dark] .colab-df-convert {\n",
              "      background-color: #3B4455;\n",
              "      fill: #D2E3FC;\n",
              "    }\n",
              "\n",
              "    [theme=dark] .colab-df-convert:hover {\n",
              "      background-color: #434B5C;\n",
              "      box-shadow: 0px 1px 3px 1px rgba(0, 0, 0, 0.15);\n",
              "      filter: drop-shadow(0px 1px 2px rgba(0, 0, 0, 0.3));\n",
              "      fill: #FFFFFF;\n",
              "    }\n",
              "  </style>\n",
              "\n",
              "      <script>\n",
              "        const buttonEl =\n",
              "          document.querySelector('#df-4712cf31-051d-4c69-9477-5409a650993d button.colab-df-convert');\n",
              "        buttonEl.style.display =\n",
              "          google.colab.kernel.accessAllowed ? 'block' : 'none';\n",
              "\n",
              "        async function convertToInteractive(key) {\n",
              "          const element = document.querySelector('#df-4712cf31-051d-4c69-9477-5409a650993d');\n",
              "          const dataTable =\n",
              "            await google.colab.kernel.invokeFunction('convertToInteractive',\n",
              "                                                     [key], {});\n",
              "          if (!dataTable) return;\n",
              "\n",
              "          const docLinkHtml = 'Like what you see? Visit the ' +\n",
              "            '<a target=\"_blank\" href=https://colab.research.google.com/notebooks/data_table.ipynb>data table notebook</a>'\n",
              "            + ' to learn more about interactive tables.';\n",
              "          element.innerHTML = '';\n",
              "          dataTable['output_type'] = 'display_data';\n",
              "          await google.colab.output.renderOutput(dataTable, element);\n",
              "          const docLink = document.createElement('div');\n",
              "          docLink.innerHTML = docLinkHtml;\n",
              "          element.appendChild(docLink);\n",
              "        }\n",
              "      </script>\n",
              "    </div>\n",
              "  </div>\n",
              "  "
            ]
          },
          "metadata": {},
          "execution_count": 58
        }
      ],
      "source": [
        "msf_jun.head(3)"
      ]
    },
    {
      "cell_type": "markdown",
      "id": "a4f44797-6e4d-43f3-9755-effc715690f2",
      "metadata": {
        "id": "a4f44797-6e4d-43f3-9755-effc715690f2"
      },
      "source": [
        "> CRSP/COMPUSTAT Merged\n",
        "> - *LPERMCO*: CRSP PERMCO link during link period. It is set to null if there is no CRSP link during the range.\n",
        "> - *LPERMNO*: CRSP PERMNO link during link period. It is set to null if there is no CRSP link during the range.\n",
        "> - *LINKDT*: The first effective date of the link\n",
        "> - *LINKENDDT*: The last date when the link is valid. For current valid link, LINKENDDT is set a NULL value. \n",
        "> - *LinkType*: A code describing the connection between the CRSP and Compustat data.\n",
        ">   - *LU*:Link research complete. Standard connection between databases.\n",
        ">   - *LC*:Un-researched link to issue by CUSIP.\n",
        ">   - *LS*: Link valid for this security only. Other CRSP PERMNOs with the same permco will link to other GVKEYs\n",
        "> - *LinkPrim*: Primary issue indicator for the link\n",
        ">   - *P*: Primary, identified by Compustat in monthly security data.\n",
        ">   - *C*: Primary, assigned by CRSP to resolve ranges of overlapping or missing primary markers from Compustat in order to produce one primary security throughout the company history.\n",
        ">   - *J*:Joiner secondary issue of a company, identified by Compustat in monthly security data.\n"
      ]
    },
    {
      "cell_type": "code",
      "execution_count": null,
      "id": "05e3d783-ce3f-4a3b-a7e9-10fad2e01da9",
      "metadata": {
        "id": "05e3d783-ce3f-4a3b-a7e9-10fad2e01da9"
      },
      "outputs": [],
      "source": [
        "ccmxpf_lnkhist = wrds_sql.raw_sql(\"\"\"\n",
        "          select distinct GVKEY,\tLINKPRIM,\tLINKTYPE,\tLPERMNO,\tLPERMCO,\tLINKDT,\tLINKENDDT\n",
        "          from crsp.ccmxpf_lnkhist\n",
        "        \"\"\")"
      ]
    },
    {
      "cell_type": "code",
      "execution_count": null,
      "id": "82d70ce7-b4d6-4cbc-a1b7-cc0f5ae48f84",
      "metadata": {
        "id": "82d70ce7-b4d6-4cbc-a1b7-cc0f5ae48f84",
        "outputId": "f9064f09-7e13-4771-fab0-dbda07d15054",
        "colab": {
          "base_uri": "https://localhost:8080/",
          "height": 206
        }
      },
      "outputs": [
        {
          "output_type": "execute_result",
          "data": {
            "text/plain": [
              "    gvkey linkprim linktype  lpermno  lpermco      linkdt   linkenddt\n",
              "0  037110        P       LC  19994.0  57465.0  2020-10-09        None\n",
              "1  003724        P       LU  40897.0  24494.0  1964-07-22  1990-01-09\n",
              "2  036349        P       LC  19631.0  57238.0  2020-08-28        None\n",
              "3  040112        P       NR      NaN      NaN  2021-11-30        None\n",
              "4  061753        P       NU      NaN      NaN  2005-07-09        None"
            ],
            "text/html": [
              "\n",
              "  <div id=\"df-8d42a977-1bb4-4a24-8b30-4ffb4a3bef03\">\n",
              "    <div class=\"colab-df-container\">\n",
              "      <div>\n",
              "<style scoped>\n",
              "    .dataframe tbody tr th:only-of-type {\n",
              "        vertical-align: middle;\n",
              "    }\n",
              "\n",
              "    .dataframe tbody tr th {\n",
              "        vertical-align: top;\n",
              "    }\n",
              "\n",
              "    .dataframe thead th {\n",
              "        text-align: right;\n",
              "    }\n",
              "</style>\n",
              "<table border=\"1\" class=\"dataframe\">\n",
              "  <thead>\n",
              "    <tr style=\"text-align: right;\">\n",
              "      <th></th>\n",
              "      <th>gvkey</th>\n",
              "      <th>linkprim</th>\n",
              "      <th>linktype</th>\n",
              "      <th>lpermno</th>\n",
              "      <th>lpermco</th>\n",
              "      <th>linkdt</th>\n",
              "      <th>linkenddt</th>\n",
              "    </tr>\n",
              "  </thead>\n",
              "  <tbody>\n",
              "    <tr>\n",
              "      <th>0</th>\n",
              "      <td>037110</td>\n",
              "      <td>P</td>\n",
              "      <td>LC</td>\n",
              "      <td>19994.0</td>\n",
              "      <td>57465.0</td>\n",
              "      <td>2020-10-09</td>\n",
              "      <td>None</td>\n",
              "    </tr>\n",
              "    <tr>\n",
              "      <th>1</th>\n",
              "      <td>003724</td>\n",
              "      <td>P</td>\n",
              "      <td>LU</td>\n",
              "      <td>40897.0</td>\n",
              "      <td>24494.0</td>\n",
              "      <td>1964-07-22</td>\n",
              "      <td>1990-01-09</td>\n",
              "    </tr>\n",
              "    <tr>\n",
              "      <th>2</th>\n",
              "      <td>036349</td>\n",
              "      <td>P</td>\n",
              "      <td>LC</td>\n",
              "      <td>19631.0</td>\n",
              "      <td>57238.0</td>\n",
              "      <td>2020-08-28</td>\n",
              "      <td>None</td>\n",
              "    </tr>\n",
              "    <tr>\n",
              "      <th>3</th>\n",
              "      <td>040112</td>\n",
              "      <td>P</td>\n",
              "      <td>NR</td>\n",
              "      <td>NaN</td>\n",
              "      <td>NaN</td>\n",
              "      <td>2021-11-30</td>\n",
              "      <td>None</td>\n",
              "    </tr>\n",
              "    <tr>\n",
              "      <th>4</th>\n",
              "      <td>061753</td>\n",
              "      <td>P</td>\n",
              "      <td>NU</td>\n",
              "      <td>NaN</td>\n",
              "      <td>NaN</td>\n",
              "      <td>2005-07-09</td>\n",
              "      <td>None</td>\n",
              "    </tr>\n",
              "  </tbody>\n",
              "</table>\n",
              "</div>\n",
              "      <button class=\"colab-df-convert\" onclick=\"convertToInteractive('df-8d42a977-1bb4-4a24-8b30-4ffb4a3bef03')\"\n",
              "              title=\"Convert this dataframe to an interactive table.\"\n",
              "              style=\"display:none;\">\n",
              "        \n",
              "  <svg xmlns=\"http://www.w3.org/2000/svg\" height=\"24px\"viewBox=\"0 0 24 24\"\n",
              "       width=\"24px\">\n",
              "    <path d=\"M0 0h24v24H0V0z\" fill=\"none\"/>\n",
              "    <path d=\"M18.56 5.44l.94 2.06.94-2.06 2.06-.94-2.06-.94-.94-2.06-.94 2.06-2.06.94zm-11 1L8.5 8.5l.94-2.06 2.06-.94-2.06-.94L8.5 2.5l-.94 2.06-2.06.94zm10 10l.94 2.06.94-2.06 2.06-.94-2.06-.94-.94-2.06-.94 2.06-2.06.94z\"/><path d=\"M17.41 7.96l-1.37-1.37c-.4-.4-.92-.59-1.43-.59-.52 0-1.04.2-1.43.59L10.3 9.45l-7.72 7.72c-.78.78-.78 2.05 0 2.83L4 21.41c.39.39.9.59 1.41.59.51 0 1.02-.2 1.41-.59l7.78-7.78 2.81-2.81c.8-.78.8-2.07 0-2.86zM5.41 20L4 18.59l7.72-7.72 1.47 1.35L5.41 20z\"/>\n",
              "  </svg>\n",
              "      </button>\n",
              "      \n",
              "  <style>\n",
              "    .colab-df-container {\n",
              "      display:flex;\n",
              "      flex-wrap:wrap;\n",
              "      gap: 12px;\n",
              "    }\n",
              "\n",
              "    .colab-df-convert {\n",
              "      background-color: #E8F0FE;\n",
              "      border: none;\n",
              "      border-radius: 50%;\n",
              "      cursor: pointer;\n",
              "      display: none;\n",
              "      fill: #1967D2;\n",
              "      height: 32px;\n",
              "      padding: 0 0 0 0;\n",
              "      width: 32px;\n",
              "    }\n",
              "\n",
              "    .colab-df-convert:hover {\n",
              "      background-color: #E2EBFA;\n",
              "      box-shadow: 0px 1px 2px rgba(60, 64, 67, 0.3), 0px 1px 3px 1px rgba(60, 64, 67, 0.15);\n",
              "      fill: #174EA6;\n",
              "    }\n",
              "\n",
              "    [theme=dark] .colab-df-convert {\n",
              "      background-color: #3B4455;\n",
              "      fill: #D2E3FC;\n",
              "    }\n",
              "\n",
              "    [theme=dark] .colab-df-convert:hover {\n",
              "      background-color: #434B5C;\n",
              "      box-shadow: 0px 1px 3px 1px rgba(0, 0, 0, 0.15);\n",
              "      filter: drop-shadow(0px 1px 2px rgba(0, 0, 0, 0.3));\n",
              "      fill: #FFFFFF;\n",
              "    }\n",
              "  </style>\n",
              "\n",
              "      <script>\n",
              "        const buttonEl =\n",
              "          document.querySelector('#df-8d42a977-1bb4-4a24-8b30-4ffb4a3bef03 button.colab-df-convert');\n",
              "        buttonEl.style.display =\n",
              "          google.colab.kernel.accessAllowed ? 'block' : 'none';\n",
              "\n",
              "        async function convertToInteractive(key) {\n",
              "          const element = document.querySelector('#df-8d42a977-1bb4-4a24-8b30-4ffb4a3bef03');\n",
              "          const dataTable =\n",
              "            await google.colab.kernel.invokeFunction('convertToInteractive',\n",
              "                                                     [key], {});\n",
              "          if (!dataTable) return;\n",
              "\n",
              "          const docLinkHtml = 'Like what you see? Visit the ' +\n",
              "            '<a target=\"_blank\" href=https://colab.research.google.com/notebooks/data_table.ipynb>data table notebook</a>'\n",
              "            + ' to learn more about interactive tables.';\n",
              "          element.innerHTML = '';\n",
              "          dataTable['output_type'] = 'display_data';\n",
              "          await google.colab.output.renderOutput(dataTable, element);\n",
              "          const docLink = document.createElement('div');\n",
              "          docLink.innerHTML = docLinkHtml;\n",
              "          element.appendChild(docLink);\n",
              "        }\n",
              "      </script>\n",
              "    </div>\n",
              "  </div>\n",
              "  "
            ]
          },
          "metadata": {},
          "execution_count": 60
        }
      ],
      "source": [
        "ccmxpf_lnkhist.head()"
      ]
    },
    {
      "cell_type": "code",
      "execution_count": null,
      "id": "f197dfd6-6cbf-49a0-a319-59f049e929d8",
      "metadata": {
        "id": "f197dfd6-6cbf-49a0-a319-59f049e929d8"
      },
      "outputs": [],
      "source": [
        "# Keep Primary Shares and Checked Links\n",
        "ccmxpf_lnkhist=ccmxpf_lnkhist[(ccmxpf_lnkhist['linktype'].isin(['LC', 'LU'])) & (ccmxpf_lnkhist['linkprim'].isin(['P','C']))]"
      ]
    },
    {
      "cell_type": "code",
      "execution_count": null,
      "id": "2d3e2b13-b36c-43d9-ad75-8cbd2db0551b",
      "metadata": {
        "id": "2d3e2b13-b36c-43d9-ad75-8cbd2db0551b",
        "outputId": "3aaa84ef-b0b0-452b-8a35-b7c94614f767",
        "colab": {
          "base_uri": "https://localhost:8080/",
          "height": 143
        }
      },
      "outputs": [
        {
          "output_type": "execute_result",
          "data": {
            "text/plain": [
              "         gvkey linkprim linktype  lpermno  lpermco      linkdt   linkenddt\n",
              "110749  163036        P       LC  90720.0  46846.0  2005-06-22        None\n",
              "110757  013288        C       LC  87816.0  18443.0  2000-03-21  2015-11-04\n",
              "110758  004208        P       LC  52150.0  25230.0  1971-04-05  1976-12-31"
            ],
            "text/html": [
              "\n",
              "  <div id=\"df-9c98b6d6-3390-473a-88dc-06c27edee289\">\n",
              "    <div class=\"colab-df-container\">\n",
              "      <div>\n",
              "<style scoped>\n",
              "    .dataframe tbody tr th:only-of-type {\n",
              "        vertical-align: middle;\n",
              "    }\n",
              "\n",
              "    .dataframe tbody tr th {\n",
              "        vertical-align: top;\n",
              "    }\n",
              "\n",
              "    .dataframe thead th {\n",
              "        text-align: right;\n",
              "    }\n",
              "</style>\n",
              "<table border=\"1\" class=\"dataframe\">\n",
              "  <thead>\n",
              "    <tr style=\"text-align: right;\">\n",
              "      <th></th>\n",
              "      <th>gvkey</th>\n",
              "      <th>linkprim</th>\n",
              "      <th>linktype</th>\n",
              "      <th>lpermno</th>\n",
              "      <th>lpermco</th>\n",
              "      <th>linkdt</th>\n",
              "      <th>linkenddt</th>\n",
              "    </tr>\n",
              "  </thead>\n",
              "  <tbody>\n",
              "    <tr>\n",
              "      <th>110749</th>\n",
              "      <td>163036</td>\n",
              "      <td>P</td>\n",
              "      <td>LC</td>\n",
              "      <td>90720.0</td>\n",
              "      <td>46846.0</td>\n",
              "      <td>2005-06-22</td>\n",
              "      <td>None</td>\n",
              "    </tr>\n",
              "    <tr>\n",
              "      <th>110757</th>\n",
              "      <td>013288</td>\n",
              "      <td>C</td>\n",
              "      <td>LC</td>\n",
              "      <td>87816.0</td>\n",
              "      <td>18443.0</td>\n",
              "      <td>2000-03-21</td>\n",
              "      <td>2015-11-04</td>\n",
              "    </tr>\n",
              "    <tr>\n",
              "      <th>110758</th>\n",
              "      <td>004208</td>\n",
              "      <td>P</td>\n",
              "      <td>LC</td>\n",
              "      <td>52150.0</td>\n",
              "      <td>25230.0</td>\n",
              "      <td>1971-04-05</td>\n",
              "      <td>1976-12-31</td>\n",
              "    </tr>\n",
              "  </tbody>\n",
              "</table>\n",
              "</div>\n",
              "      <button class=\"colab-df-convert\" onclick=\"convertToInteractive('df-9c98b6d6-3390-473a-88dc-06c27edee289')\"\n",
              "              title=\"Convert this dataframe to an interactive table.\"\n",
              "              style=\"display:none;\">\n",
              "        \n",
              "  <svg xmlns=\"http://www.w3.org/2000/svg\" height=\"24px\"viewBox=\"0 0 24 24\"\n",
              "       width=\"24px\">\n",
              "    <path d=\"M0 0h24v24H0V0z\" fill=\"none\"/>\n",
              "    <path d=\"M18.56 5.44l.94 2.06.94-2.06 2.06-.94-2.06-.94-.94-2.06-.94 2.06-2.06.94zm-11 1L8.5 8.5l.94-2.06 2.06-.94-2.06-.94L8.5 2.5l-.94 2.06-2.06.94zm10 10l.94 2.06.94-2.06 2.06-.94-2.06-.94-.94-2.06-.94 2.06-2.06.94z\"/><path d=\"M17.41 7.96l-1.37-1.37c-.4-.4-.92-.59-1.43-.59-.52 0-1.04.2-1.43.59L10.3 9.45l-7.72 7.72c-.78.78-.78 2.05 0 2.83L4 21.41c.39.39.9.59 1.41.59.51 0 1.02-.2 1.41-.59l7.78-7.78 2.81-2.81c.8-.78.8-2.07 0-2.86zM5.41 20L4 18.59l7.72-7.72 1.47 1.35L5.41 20z\"/>\n",
              "  </svg>\n",
              "      </button>\n",
              "      \n",
              "  <style>\n",
              "    .colab-df-container {\n",
              "      display:flex;\n",
              "      flex-wrap:wrap;\n",
              "      gap: 12px;\n",
              "    }\n",
              "\n",
              "    .colab-df-convert {\n",
              "      background-color: #E8F0FE;\n",
              "      border: none;\n",
              "      border-radius: 50%;\n",
              "      cursor: pointer;\n",
              "      display: none;\n",
              "      fill: #1967D2;\n",
              "      height: 32px;\n",
              "      padding: 0 0 0 0;\n",
              "      width: 32px;\n",
              "    }\n",
              "\n",
              "    .colab-df-convert:hover {\n",
              "      background-color: #E2EBFA;\n",
              "      box-shadow: 0px 1px 2px rgba(60, 64, 67, 0.3), 0px 1px 3px 1px rgba(60, 64, 67, 0.15);\n",
              "      fill: #174EA6;\n",
              "    }\n",
              "\n",
              "    [theme=dark] .colab-df-convert {\n",
              "      background-color: #3B4455;\n",
              "      fill: #D2E3FC;\n",
              "    }\n",
              "\n",
              "    [theme=dark] .colab-df-convert:hover {\n",
              "      background-color: #434B5C;\n",
              "      box-shadow: 0px 1px 3px 1px rgba(0, 0, 0, 0.15);\n",
              "      filter: drop-shadow(0px 1px 2px rgba(0, 0, 0, 0.3));\n",
              "      fill: #FFFFFF;\n",
              "    }\n",
              "  </style>\n",
              "\n",
              "      <script>\n",
              "        const buttonEl =\n",
              "          document.querySelector('#df-9c98b6d6-3390-473a-88dc-06c27edee289 button.colab-df-convert');\n",
              "        buttonEl.style.display =\n",
              "          google.colab.kernel.accessAllowed ? 'block' : 'none';\n",
              "\n",
              "        async function convertToInteractive(key) {\n",
              "          const element = document.querySelector('#df-9c98b6d6-3390-473a-88dc-06c27edee289');\n",
              "          const dataTable =\n",
              "            await google.colab.kernel.invokeFunction('convertToInteractive',\n",
              "                                                     [key], {});\n",
              "          if (!dataTable) return;\n",
              "\n",
              "          const docLinkHtml = 'Like what you see? Visit the ' +\n",
              "            '<a target=\"_blank\" href=https://colab.research.google.com/notebooks/data_table.ipynb>data table notebook</a>'\n",
              "            + ' to learn more about interactive tables.';\n",
              "          element.innerHTML = '';\n",
              "          dataTable['output_type'] = 'display_data';\n",
              "          await google.colab.output.renderOutput(dataTable, element);\n",
              "          const docLink = document.createElement('div');\n",
              "          docLink.innerHTML = docLinkHtml;\n",
              "          element.appendChild(docLink);\n",
              "        }\n",
              "      </script>\n",
              "    </div>\n",
              "  </div>\n",
              "  "
            ]
          },
          "metadata": {},
          "execution_count": 62
        }
      ],
      "source": [
        "ccmxpf_lnkhist.tail(3)"
      ]
    },
    {
      "cell_type": "code",
      "execution_count": null,
      "id": "eb581c82-c7bc-4500-9c4b-a5fe591e3edc",
      "metadata": {
        "id": "eb581c82-c7bc-4500-9c4b-a5fe591e3edc"
      },
      "outputs": [],
      "source": [
        "comp.to_sql('comp', local_sql, index=True) \n",
        "ccmxpf_lnkhist.to_sql('ccmxpf_lnkhist', local_sql)  \n",
        "\n",
        "sqlcode=\"\"\"\n",
        "    select distinct a.*, b.lpermno as permno, b.linkprim\n",
        "    from comp as a, ccmxpf_lnkhist as b\n",
        "    where a.gvkey=b.gvkey and datadate>=linkdt and datadate<=coalesce(linkenddt, date(\"now\"))\n",
        "    group by b.lpermno, fyear\n",
        "    having datadate=max(datadate) \n",
        "\"\"\"\n",
        "ccm=pd.read_sql_query(sqlcode, local_sql)"
      ]
    },
    {
      "cell_type": "code",
      "execution_count": null,
      "id": "d8fd6272-5a6b-444e-a728-70607cd59e47",
      "metadata": {
        "id": "d8fd6272-5a6b-444e-a728-70607cd59e47",
        "outputId": "ddecbacf-830b-4637-bfdf-ebdde5937f13",
        "colab": {
          "base_uri": "https://localhost:8080/",
          "height": 143
        }
      },
      "outputs": [
        {
          "output_type": "execute_result",
          "data": {
            "text/plain": [
              "    gvkey   fyear             datadate     be  age   permno linkprim\n",
              "0  013007  1986.0  1986-10-31 00:00:00  0.418  2.0  10000.0        P\n",
              "1  012994  1986.0  1986-06-30 00:00:00  7.037  0.0  10001.0        P\n",
              "2  012994  1987.0  1987-06-30 00:00:00  7.038  1.0  10001.0        P"
            ],
            "text/html": [
              "\n",
              "  <div id=\"df-dae3d18f-2b19-4767-b855-a72a3c7e7090\">\n",
              "    <div class=\"colab-df-container\">\n",
              "      <div>\n",
              "<style scoped>\n",
              "    .dataframe tbody tr th:only-of-type {\n",
              "        vertical-align: middle;\n",
              "    }\n",
              "\n",
              "    .dataframe tbody tr th {\n",
              "        vertical-align: top;\n",
              "    }\n",
              "\n",
              "    .dataframe thead th {\n",
              "        text-align: right;\n",
              "    }\n",
              "</style>\n",
              "<table border=\"1\" class=\"dataframe\">\n",
              "  <thead>\n",
              "    <tr style=\"text-align: right;\">\n",
              "      <th></th>\n",
              "      <th>gvkey</th>\n",
              "      <th>fyear</th>\n",
              "      <th>datadate</th>\n",
              "      <th>be</th>\n",
              "      <th>age</th>\n",
              "      <th>permno</th>\n",
              "      <th>linkprim</th>\n",
              "    </tr>\n",
              "  </thead>\n",
              "  <tbody>\n",
              "    <tr>\n",
              "      <th>0</th>\n",
              "      <td>013007</td>\n",
              "      <td>1986.0</td>\n",
              "      <td>1986-10-31 00:00:00</td>\n",
              "      <td>0.418</td>\n",
              "      <td>2.0</td>\n",
              "      <td>10000.0</td>\n",
              "      <td>P</td>\n",
              "    </tr>\n",
              "    <tr>\n",
              "      <th>1</th>\n",
              "      <td>012994</td>\n",
              "      <td>1986.0</td>\n",
              "      <td>1986-06-30 00:00:00</td>\n",
              "      <td>7.037</td>\n",
              "      <td>0.0</td>\n",
              "      <td>10001.0</td>\n",
              "      <td>P</td>\n",
              "    </tr>\n",
              "    <tr>\n",
              "      <th>2</th>\n",
              "      <td>012994</td>\n",
              "      <td>1987.0</td>\n",
              "      <td>1987-06-30 00:00:00</td>\n",
              "      <td>7.038</td>\n",
              "      <td>1.0</td>\n",
              "      <td>10001.0</td>\n",
              "      <td>P</td>\n",
              "    </tr>\n",
              "  </tbody>\n",
              "</table>\n",
              "</div>\n",
              "      <button class=\"colab-df-convert\" onclick=\"convertToInteractive('df-dae3d18f-2b19-4767-b855-a72a3c7e7090')\"\n",
              "              title=\"Convert this dataframe to an interactive table.\"\n",
              "              style=\"display:none;\">\n",
              "        \n",
              "  <svg xmlns=\"http://www.w3.org/2000/svg\" height=\"24px\"viewBox=\"0 0 24 24\"\n",
              "       width=\"24px\">\n",
              "    <path d=\"M0 0h24v24H0V0z\" fill=\"none\"/>\n",
              "    <path d=\"M18.56 5.44l.94 2.06.94-2.06 2.06-.94-2.06-.94-.94-2.06-.94 2.06-2.06.94zm-11 1L8.5 8.5l.94-2.06 2.06-.94-2.06-.94L8.5 2.5l-.94 2.06-2.06.94zm10 10l.94 2.06.94-2.06 2.06-.94-2.06-.94-.94-2.06-.94 2.06-2.06.94z\"/><path d=\"M17.41 7.96l-1.37-1.37c-.4-.4-.92-.59-1.43-.59-.52 0-1.04.2-1.43.59L10.3 9.45l-7.72 7.72c-.78.78-.78 2.05 0 2.83L4 21.41c.39.39.9.59 1.41.59.51 0 1.02-.2 1.41-.59l7.78-7.78 2.81-2.81c.8-.78.8-2.07 0-2.86zM5.41 20L4 18.59l7.72-7.72 1.47 1.35L5.41 20z\"/>\n",
              "  </svg>\n",
              "      </button>\n",
              "      \n",
              "  <style>\n",
              "    .colab-df-container {\n",
              "      display:flex;\n",
              "      flex-wrap:wrap;\n",
              "      gap: 12px;\n",
              "    }\n",
              "\n",
              "    .colab-df-convert {\n",
              "      background-color: #E8F0FE;\n",
              "      border: none;\n",
              "      border-radius: 50%;\n",
              "      cursor: pointer;\n",
              "      display: none;\n",
              "      fill: #1967D2;\n",
              "      height: 32px;\n",
              "      padding: 0 0 0 0;\n",
              "      width: 32px;\n",
              "    }\n",
              "\n",
              "    .colab-df-convert:hover {\n",
              "      background-color: #E2EBFA;\n",
              "      box-shadow: 0px 1px 2px rgba(60, 64, 67, 0.3), 0px 1px 3px 1px rgba(60, 64, 67, 0.15);\n",
              "      fill: #174EA6;\n",
              "    }\n",
              "\n",
              "    [theme=dark] .colab-df-convert {\n",
              "      background-color: #3B4455;\n",
              "      fill: #D2E3FC;\n",
              "    }\n",
              "\n",
              "    [theme=dark] .colab-df-convert:hover {\n",
              "      background-color: #434B5C;\n",
              "      box-shadow: 0px 1px 3px 1px rgba(0, 0, 0, 0.15);\n",
              "      filter: drop-shadow(0px 1px 2px rgba(0, 0, 0, 0.3));\n",
              "      fill: #FFFFFF;\n",
              "    }\n",
              "  </style>\n",
              "\n",
              "      <script>\n",
              "        const buttonEl =\n",
              "          document.querySelector('#df-dae3d18f-2b19-4767-b855-a72a3c7e7090 button.colab-df-convert');\n",
              "        buttonEl.style.display =\n",
              "          google.colab.kernel.accessAllowed ? 'block' : 'none';\n",
              "\n",
              "        async function convertToInteractive(key) {\n",
              "          const element = document.querySelector('#df-dae3d18f-2b19-4767-b855-a72a3c7e7090');\n",
              "          const dataTable =\n",
              "            await google.colab.kernel.invokeFunction('convertToInteractive',\n",
              "                                                     [key], {});\n",
              "          if (!dataTable) return;\n",
              "\n",
              "          const docLinkHtml = 'Like what you see? Visit the ' +\n",
              "            '<a target=\"_blank\" href=https://colab.research.google.com/notebooks/data_table.ipynb>data table notebook</a>'\n",
              "            + ' to learn more about interactive tables.';\n",
              "          element.innerHTML = '';\n",
              "          dataTable['output_type'] = 'display_data';\n",
              "          await google.colab.output.renderOutput(dataTable, element);\n",
              "          const docLink = document.createElement('div');\n",
              "          docLink.innerHTML = docLinkHtml;\n",
              "          element.appendChild(docLink);\n",
              "        }\n",
              "      </script>\n",
              "    </div>\n",
              "  </div>\n",
              "  "
            ]
          },
          "metadata": {},
          "execution_count": 64
        }
      ],
      "source": [
        "ccm.head(3)"
      ]
    },
    {
      "cell_type": "code",
      "execution_count": null,
      "id": "d599562f-c74a-4422-b200-276123bfdad3",
      "metadata": {
        "id": "d599562f-c74a-4422-b200-276123bfdad3"
      },
      "outputs": [],
      "source": [
        "ccm.to_sql('ccm', local_sql, index=True) \n",
        "msf_jun.to_sql('msf_jun', local_sql, index=True)\n",
        "sqlcode=\"\"\"\n",
        "    select a.*, b.BE, (1000*b.BE)/a.DEC_ME as beme, b.age, b.datadate\n",
        "    from msf_jun as a, ccm as b\n",
        "    where a.permno=b.permno and age > 2  and be > 0 and \n",
        "    datadate<=date and datadate>=date(date, \"start of month\", \"-11 month\") \n",
        "\"\"\"\n",
        "ccm_jun=pd.read_sql_query(sqlcode, local_sql)"
      ]
    },
    {
      "cell_type": "markdown",
      "id": "f7b08acc-da17-4c09-aac1-fa58e029cb0a",
      "metadata": {
        "id": "f7b08acc-da17-4c09-aac1-fa58e029cb0a"
      },
      "source": [
        "> Empirical Notes - Potential duplications: \n",
        "> - There are small numbers of cases that different GVKEYS are merged to the same PERMNO-Date combination\n",
        ">   - Compustat and CRSP disagree regarding certain subsidiaries whose stocks are independently traded on the market."
      ]
    },
    {
      "cell_type": "code",
      "execution_count": null,
      "id": "c302a99c-a319-452b-b681-0c57ab6b1a09",
      "metadata": {
        "id": "c302a99c-a319-452b-b681-0c57ab6b1a09",
        "outputId": "d820bee5-b286-40b4-ba59-6acd1bb3cb64",
        "colab": {
          "base_uri": "https://localhost:8080/",
          "height": 143
        }
      },
      "outputs": [
        {
          "output_type": "execute_result",
          "data": {
            "text/plain": [
              "    permno                 date  exchcd  shrcd    jun_me    dec_me      be  \\\n",
              "0  10001.0  1989-06-30 00:00:00     3.0   11.0   7007.00   6362.25   8.466   \n",
              "1  10001.0  1990-06-30 00:00:00     3.0   11.0  10052.25  10347.75   9.438   \n",
              "2  10001.0  1991-06-30 00:00:00     3.0   11.0  11266.50  10013.00  10.411   \n",
              "\n",
              "       beme  age             datadate  \n",
              "0  1.330661  3.0  1989-06-30 00:00:00  \n",
              "1  0.912082  4.0  1990-06-30 00:00:00  \n",
              "2  1.039748  5.0  1991-06-30 00:00:00  "
            ],
            "text/html": [
              "\n",
              "  <div id=\"df-26ff5be4-6355-40e9-b886-7576d56f7216\">\n",
              "    <div class=\"colab-df-container\">\n",
              "      <div>\n",
              "<style scoped>\n",
              "    .dataframe tbody tr th:only-of-type {\n",
              "        vertical-align: middle;\n",
              "    }\n",
              "\n",
              "    .dataframe tbody tr th {\n",
              "        vertical-align: top;\n",
              "    }\n",
              "\n",
              "    .dataframe thead th {\n",
              "        text-align: right;\n",
              "    }\n",
              "</style>\n",
              "<table border=\"1\" class=\"dataframe\">\n",
              "  <thead>\n",
              "    <tr style=\"text-align: right;\">\n",
              "      <th></th>\n",
              "      <th>permno</th>\n",
              "      <th>date</th>\n",
              "      <th>exchcd</th>\n",
              "      <th>shrcd</th>\n",
              "      <th>jun_me</th>\n",
              "      <th>dec_me</th>\n",
              "      <th>be</th>\n",
              "      <th>beme</th>\n",
              "      <th>age</th>\n",
              "      <th>datadate</th>\n",
              "    </tr>\n",
              "  </thead>\n",
              "  <tbody>\n",
              "    <tr>\n",
              "      <th>0</th>\n",
              "      <td>10001.0</td>\n",
              "      <td>1989-06-30 00:00:00</td>\n",
              "      <td>3.0</td>\n",
              "      <td>11.0</td>\n",
              "      <td>7007.00</td>\n",
              "      <td>6362.25</td>\n",
              "      <td>8.466</td>\n",
              "      <td>1.330661</td>\n",
              "      <td>3.0</td>\n",
              "      <td>1989-06-30 00:00:00</td>\n",
              "    </tr>\n",
              "    <tr>\n",
              "      <th>1</th>\n",
              "      <td>10001.0</td>\n",
              "      <td>1990-06-30 00:00:00</td>\n",
              "      <td>3.0</td>\n",
              "      <td>11.0</td>\n",
              "      <td>10052.25</td>\n",
              "      <td>10347.75</td>\n",
              "      <td>9.438</td>\n",
              "      <td>0.912082</td>\n",
              "      <td>4.0</td>\n",
              "      <td>1990-06-30 00:00:00</td>\n",
              "    </tr>\n",
              "    <tr>\n",
              "      <th>2</th>\n",
              "      <td>10001.0</td>\n",
              "      <td>1991-06-30 00:00:00</td>\n",
              "      <td>3.0</td>\n",
              "      <td>11.0</td>\n",
              "      <td>11266.50</td>\n",
              "      <td>10013.00</td>\n",
              "      <td>10.411</td>\n",
              "      <td>1.039748</td>\n",
              "      <td>5.0</td>\n",
              "      <td>1991-06-30 00:00:00</td>\n",
              "    </tr>\n",
              "  </tbody>\n",
              "</table>\n",
              "</div>\n",
              "      <button class=\"colab-df-convert\" onclick=\"convertToInteractive('df-26ff5be4-6355-40e9-b886-7576d56f7216')\"\n",
              "              title=\"Convert this dataframe to an interactive table.\"\n",
              "              style=\"display:none;\">\n",
              "        \n",
              "  <svg xmlns=\"http://www.w3.org/2000/svg\" height=\"24px\"viewBox=\"0 0 24 24\"\n",
              "       width=\"24px\">\n",
              "    <path d=\"M0 0h24v24H0V0z\" fill=\"none\"/>\n",
              "    <path d=\"M18.56 5.44l.94 2.06.94-2.06 2.06-.94-2.06-.94-.94-2.06-.94 2.06-2.06.94zm-11 1L8.5 8.5l.94-2.06 2.06-.94-2.06-.94L8.5 2.5l-.94 2.06-2.06.94zm10 10l.94 2.06.94-2.06 2.06-.94-2.06-.94-.94-2.06-.94 2.06-2.06.94z\"/><path d=\"M17.41 7.96l-1.37-1.37c-.4-.4-.92-.59-1.43-.59-.52 0-1.04.2-1.43.59L10.3 9.45l-7.72 7.72c-.78.78-.78 2.05 0 2.83L4 21.41c.39.39.9.59 1.41.59.51 0 1.02-.2 1.41-.59l7.78-7.78 2.81-2.81c.8-.78.8-2.07 0-2.86zM5.41 20L4 18.59l7.72-7.72 1.47 1.35L5.41 20z\"/>\n",
              "  </svg>\n",
              "      </button>\n",
              "      \n",
              "  <style>\n",
              "    .colab-df-container {\n",
              "      display:flex;\n",
              "      flex-wrap:wrap;\n",
              "      gap: 12px;\n",
              "    }\n",
              "\n",
              "    .colab-df-convert {\n",
              "      background-color: #E8F0FE;\n",
              "      border: none;\n",
              "      border-radius: 50%;\n",
              "      cursor: pointer;\n",
              "      display: none;\n",
              "      fill: #1967D2;\n",
              "      height: 32px;\n",
              "      padding: 0 0 0 0;\n",
              "      width: 32px;\n",
              "    }\n",
              "\n",
              "    .colab-df-convert:hover {\n",
              "      background-color: #E2EBFA;\n",
              "      box-shadow: 0px 1px 2px rgba(60, 64, 67, 0.3), 0px 1px 3px 1px rgba(60, 64, 67, 0.15);\n",
              "      fill: #174EA6;\n",
              "    }\n",
              "\n",
              "    [theme=dark] .colab-df-convert {\n",
              "      background-color: #3B4455;\n",
              "      fill: #D2E3FC;\n",
              "    }\n",
              "\n",
              "    [theme=dark] .colab-df-convert:hover {\n",
              "      background-color: #434B5C;\n",
              "      box-shadow: 0px 1px 3px 1px rgba(0, 0, 0, 0.15);\n",
              "      filter: drop-shadow(0px 1px 2px rgba(0, 0, 0, 0.3));\n",
              "      fill: #FFFFFF;\n",
              "    }\n",
              "  </style>\n",
              "\n",
              "      <script>\n",
              "        const buttonEl =\n",
              "          document.querySelector('#df-26ff5be4-6355-40e9-b886-7576d56f7216 button.colab-df-convert');\n",
              "        buttonEl.style.display =\n",
              "          google.colab.kernel.accessAllowed ? 'block' : 'none';\n",
              "\n",
              "        async function convertToInteractive(key) {\n",
              "          const element = document.querySelector('#df-26ff5be4-6355-40e9-b886-7576d56f7216');\n",
              "          const dataTable =\n",
              "            await google.colab.kernel.invokeFunction('convertToInteractive',\n",
              "                                                     [key], {});\n",
              "          if (!dataTable) return;\n",
              "\n",
              "          const docLinkHtml = 'Like what you see? Visit the ' +\n",
              "            '<a target=\"_blank\" href=https://colab.research.google.com/notebooks/data_table.ipynb>data table notebook</a>'\n",
              "            + ' to learn more about interactive tables.';\n",
              "          element.innerHTML = '';\n",
              "          dataTable['output_type'] = 'display_data';\n",
              "          await google.colab.output.renderOutput(dataTable, element);\n",
              "          const docLink = document.createElement('div');\n",
              "          docLink.innerHTML = docLinkHtml;\n",
              "          element.appendChild(docLink);\n",
              "        }\n",
              "      </script>\n",
              "    </div>\n",
              "  </div>\n",
              "  "
            ]
          },
          "metadata": {},
          "execution_count": 66
        }
      ],
      "source": [
        "ccm_jun.head(3)"
      ]
    },
    {
      "cell_type": "markdown",
      "id": "b0dee347-fd58-458a-835c-df3457378d0b",
      "metadata": {
        "id": "b0dee347-fd58-458a-835c-df3457378d0b"
      },
      "source": [
        "> In the original Fama & French (1993), size and B/M break breakpoints are created by NYSE stocks only to ensure consistency introduced by the small stocks listed in the later joined NASDAQ (1973).\n",
        "> - This treatment becomes a standard way to handle breaking points among Asset Pricing literature, even in the ones using data after CRSP NASDAQ data integration.  "
      ]
    },
    {
      "cell_type": "code",
      "execution_count": null,
      "id": "7409ac9c-61f0-45ff-b23e-517f7d08a382",
      "metadata": {
        "id": "7409ac9c-61f0-45ff-b23e-517f7d08a382"
      },
      "outputs": [],
      "source": [
        "nyse_breaks=ccm_jun[(ccm_jun['exchcd']==1) & (ccm_jun['beme']>0)] # NYSE Stocks with positive Book Value of Equity;"
      ]
    },
    {
      "cell_type": "markdown",
      "id": "53adeb2d-e771-4e18-9216-692578ab8034",
      "metadata": {
        "id": "53adeb2d-e771-4e18-9216-692578ab8034"
      },
      "source": [
        "> Fama & French (1993) break NYSE stocks in two dimensions in each June:\n",
        "> - Big and Small by median \n",
        "> - High and Low by 30- and 70- percentiles \n",
        "\n",
        "![FFM Formula](http://drive.google.com/uc?export=view&id=122xgaGmiDATj2gOl3X7SeaMti8fZ6gWC)"
      ]
    },
    {
      "cell_type": "code",
      "execution_count": null,
      "id": "8bf80a65-57ff-455e-b823-1c9aa1ad5566",
      "metadata": {
        "id": "8bf80a65-57ff-455e-b823-1c9aa1ad5566"
      },
      "outputs": [],
      "source": [
        "nyse_breaks=nyse_breaks.groupby(['date'])[['jun_me', 'beme']].quantile([.3, .5, .7], interpolation='nearest').unstack().reset_index()"
      ]
    },
    {
      "cell_type": "code",
      "execution_count": null,
      "id": "12c5b944-5760-42e0-90b3-7002f5bd8629",
      "metadata": {
        "id": "12c5b944-5760-42e0-90b3-7002f5bd8629",
        "outputId": "f9079ab2-c66b-4ee2-d2ad-f50903f08aaa",
        "colab": {
          "base_uri": "https://localhost:8080/",
          "height": 175
        }
      },
      "outputs": [
        {
          "output_type": "execute_result",
          "data": {
            "text/plain": [
              "                   date        jun_me                                  beme  \\\n",
              "                                  0.3           0.5           0.7       0.3   \n",
              "57  2019-06-30 00:00:00  1.323978e+06  3.181894e+06  8.294303e+06  0.357084   \n",
              "58  2020-06-30 00:00:00  1.044467e+06  2.720821e+06  7.109923e+06  0.306639   \n",
              "59  2021-06-30 00:00:00  2.083823e+06  4.528185e+06  1.164222e+07  0.264976   \n",
              "\n",
              "                        \n",
              "         0.5       0.7  \n",
              "57  0.583190  0.850418  \n",
              "58  0.514130  0.754795  \n",
              "59  0.470324  0.773158  "
            ],
            "text/html": [
              "\n",
              "  <div id=\"df-c57c2d4d-576a-438b-8f1f-8811caf938fb\">\n",
              "    <div class=\"colab-df-container\">\n",
              "      <div>\n",
              "<style scoped>\n",
              "    .dataframe tbody tr th:only-of-type {\n",
              "        vertical-align: middle;\n",
              "    }\n",
              "\n",
              "    .dataframe tbody tr th {\n",
              "        vertical-align: top;\n",
              "    }\n",
              "\n",
              "    .dataframe thead tr th {\n",
              "        text-align: left;\n",
              "    }\n",
              "</style>\n",
              "<table border=\"1\" class=\"dataframe\">\n",
              "  <thead>\n",
              "    <tr>\n",
              "      <th></th>\n",
              "      <th>date</th>\n",
              "      <th colspan=\"3\" halign=\"left\">jun_me</th>\n",
              "      <th colspan=\"3\" halign=\"left\">beme</th>\n",
              "    </tr>\n",
              "    <tr>\n",
              "      <th></th>\n",
              "      <th></th>\n",
              "      <th>0.3</th>\n",
              "      <th>0.5</th>\n",
              "      <th>0.7</th>\n",
              "      <th>0.3</th>\n",
              "      <th>0.5</th>\n",
              "      <th>0.7</th>\n",
              "    </tr>\n",
              "  </thead>\n",
              "  <tbody>\n",
              "    <tr>\n",
              "      <th>57</th>\n",
              "      <td>2019-06-30 00:00:00</td>\n",
              "      <td>1.323978e+06</td>\n",
              "      <td>3.181894e+06</td>\n",
              "      <td>8.294303e+06</td>\n",
              "      <td>0.357084</td>\n",
              "      <td>0.583190</td>\n",
              "      <td>0.850418</td>\n",
              "    </tr>\n",
              "    <tr>\n",
              "      <th>58</th>\n",
              "      <td>2020-06-30 00:00:00</td>\n",
              "      <td>1.044467e+06</td>\n",
              "      <td>2.720821e+06</td>\n",
              "      <td>7.109923e+06</td>\n",
              "      <td>0.306639</td>\n",
              "      <td>0.514130</td>\n",
              "      <td>0.754795</td>\n",
              "    </tr>\n",
              "    <tr>\n",
              "      <th>59</th>\n",
              "      <td>2021-06-30 00:00:00</td>\n",
              "      <td>2.083823e+06</td>\n",
              "      <td>4.528185e+06</td>\n",
              "      <td>1.164222e+07</td>\n",
              "      <td>0.264976</td>\n",
              "      <td>0.470324</td>\n",
              "      <td>0.773158</td>\n",
              "    </tr>\n",
              "  </tbody>\n",
              "</table>\n",
              "</div>\n",
              "      <button class=\"colab-df-convert\" onclick=\"convertToInteractive('df-c57c2d4d-576a-438b-8f1f-8811caf938fb')\"\n",
              "              title=\"Convert this dataframe to an interactive table.\"\n",
              "              style=\"display:none;\">\n",
              "        \n",
              "  <svg xmlns=\"http://www.w3.org/2000/svg\" height=\"24px\"viewBox=\"0 0 24 24\"\n",
              "       width=\"24px\">\n",
              "    <path d=\"M0 0h24v24H0V0z\" fill=\"none\"/>\n",
              "    <path d=\"M18.56 5.44l.94 2.06.94-2.06 2.06-.94-2.06-.94-.94-2.06-.94 2.06-2.06.94zm-11 1L8.5 8.5l.94-2.06 2.06-.94-2.06-.94L8.5 2.5l-.94 2.06-2.06.94zm10 10l.94 2.06.94-2.06 2.06-.94-2.06-.94-.94-2.06-.94 2.06-2.06.94z\"/><path d=\"M17.41 7.96l-1.37-1.37c-.4-.4-.92-.59-1.43-.59-.52 0-1.04.2-1.43.59L10.3 9.45l-7.72 7.72c-.78.78-.78 2.05 0 2.83L4 21.41c.39.39.9.59 1.41.59.51 0 1.02-.2 1.41-.59l7.78-7.78 2.81-2.81c.8-.78.8-2.07 0-2.86zM5.41 20L4 18.59l7.72-7.72 1.47 1.35L5.41 20z\"/>\n",
              "  </svg>\n",
              "      </button>\n",
              "      \n",
              "  <style>\n",
              "    .colab-df-container {\n",
              "      display:flex;\n",
              "      flex-wrap:wrap;\n",
              "      gap: 12px;\n",
              "    }\n",
              "\n",
              "    .colab-df-convert {\n",
              "      background-color: #E8F0FE;\n",
              "      border: none;\n",
              "      border-radius: 50%;\n",
              "      cursor: pointer;\n",
              "      display: none;\n",
              "      fill: #1967D2;\n",
              "      height: 32px;\n",
              "      padding: 0 0 0 0;\n",
              "      width: 32px;\n",
              "    }\n",
              "\n",
              "    .colab-df-convert:hover {\n",
              "      background-color: #E2EBFA;\n",
              "      box-shadow: 0px 1px 2px rgba(60, 64, 67, 0.3), 0px 1px 3px 1px rgba(60, 64, 67, 0.15);\n",
              "      fill: #174EA6;\n",
              "    }\n",
              "\n",
              "    [theme=dark] .colab-df-convert {\n",
              "      background-color: #3B4455;\n",
              "      fill: #D2E3FC;\n",
              "    }\n",
              "\n",
              "    [theme=dark] .colab-df-convert:hover {\n",
              "      background-color: #434B5C;\n",
              "      box-shadow: 0px 1px 3px 1px rgba(0, 0, 0, 0.15);\n",
              "      filter: drop-shadow(0px 1px 2px rgba(0, 0, 0, 0.3));\n",
              "      fill: #FFFFFF;\n",
              "    }\n",
              "  </style>\n",
              "\n",
              "      <script>\n",
              "        const buttonEl =\n",
              "          document.querySelector('#df-c57c2d4d-576a-438b-8f1f-8811caf938fb button.colab-df-convert');\n",
              "        buttonEl.style.display =\n",
              "          google.colab.kernel.accessAllowed ? 'block' : 'none';\n",
              "\n",
              "        async function convertToInteractive(key) {\n",
              "          const element = document.querySelector('#df-c57c2d4d-576a-438b-8f1f-8811caf938fb');\n",
              "          const dataTable =\n",
              "            await google.colab.kernel.invokeFunction('convertToInteractive',\n",
              "                                                     [key], {});\n",
              "          if (!dataTable) return;\n",
              "\n",
              "          const docLinkHtml = 'Like what you see? Visit the ' +\n",
              "            '<a target=\"_blank\" href=https://colab.research.google.com/notebooks/data_table.ipynb>data table notebook</a>'\n",
              "            + ' to learn more about interactive tables.';\n",
              "          element.innerHTML = '';\n",
              "          dataTable['output_type'] = 'display_data';\n",
              "          await google.colab.output.renderOutput(dataTable, element);\n",
              "          const docLink = document.createElement('div');\n",
              "          docLink.innerHTML = docLinkHtml;\n",
              "          element.appendChild(docLink);\n",
              "        }\n",
              "      </script>\n",
              "    </div>\n",
              "  </div>\n",
              "  "
            ]
          },
          "metadata": {},
          "execution_count": 70
        }
      ],
      "source": [
        "nyse_breaks.tail(3)"
      ]
    },
    {
      "cell_type": "code",
      "execution_count": null,
      "id": "1d186186-c741-43d1-bf14-39bcc28e45fa",
      "metadata": {
        "id": "1d186186-c741-43d1-bf14-39bcc28e45fa"
      },
      "outputs": [],
      "source": [
        "# Some manipulation for panda's hierarchical column names\n",
        "nyse_breaks.columns=[col[0]+str(col[1]).replace('0.','_q') for col in nyse_breaks.columns.values] "
      ]
    },
    {
      "cell_type": "code",
      "execution_count": null,
      "id": "a29afbee-f61b-4bc8-820f-e6b40647a452",
      "metadata": {
        "id": "a29afbee-f61b-4bc8-820f-e6b40647a452",
        "outputId": "13df262d-07cc-411b-d7d4-140b7e189747",
        "colab": {
          "base_uri": "https://localhost:8080/",
          "height": 112
        }
      },
      "outputs": [
        {
          "output_type": "execute_result",
          "data": {
            "text/plain": [
              "                  date  jun_me_q3  jun_me_q5  jun_me_q7   beme_q3   beme_q5  \\\n",
              "0  1962-06-30 00:00:00  126653.25   261765.0  410720.75  0.397120  0.451566   \n",
              "1  1963-06-30 00:00:00  103194.00   221805.0  434875.00  0.446089  0.525711   \n",
              "\n",
              "    beme_q7  \n",
              "0  0.508569  \n",
              "1  0.675712  "
            ],
            "text/html": [
              "\n",
              "  <div id=\"df-bc59d326-048e-41ca-bf41-5ed3fdb8aa52\">\n",
              "    <div class=\"colab-df-container\">\n",
              "      <div>\n",
              "<style scoped>\n",
              "    .dataframe tbody tr th:only-of-type {\n",
              "        vertical-align: middle;\n",
              "    }\n",
              "\n",
              "    .dataframe tbody tr th {\n",
              "        vertical-align: top;\n",
              "    }\n",
              "\n",
              "    .dataframe thead th {\n",
              "        text-align: right;\n",
              "    }\n",
              "</style>\n",
              "<table border=\"1\" class=\"dataframe\">\n",
              "  <thead>\n",
              "    <tr style=\"text-align: right;\">\n",
              "      <th></th>\n",
              "      <th>date</th>\n",
              "      <th>jun_me_q3</th>\n",
              "      <th>jun_me_q5</th>\n",
              "      <th>jun_me_q7</th>\n",
              "      <th>beme_q3</th>\n",
              "      <th>beme_q5</th>\n",
              "      <th>beme_q7</th>\n",
              "    </tr>\n",
              "  </thead>\n",
              "  <tbody>\n",
              "    <tr>\n",
              "      <th>0</th>\n",
              "      <td>1962-06-30 00:00:00</td>\n",
              "      <td>126653.25</td>\n",
              "      <td>261765.0</td>\n",
              "      <td>410720.75</td>\n",
              "      <td>0.397120</td>\n",
              "      <td>0.451566</td>\n",
              "      <td>0.508569</td>\n",
              "    </tr>\n",
              "    <tr>\n",
              "      <th>1</th>\n",
              "      <td>1963-06-30 00:00:00</td>\n",
              "      <td>103194.00</td>\n",
              "      <td>221805.0</td>\n",
              "      <td>434875.00</td>\n",
              "      <td>0.446089</td>\n",
              "      <td>0.525711</td>\n",
              "      <td>0.675712</td>\n",
              "    </tr>\n",
              "  </tbody>\n",
              "</table>\n",
              "</div>\n",
              "      <button class=\"colab-df-convert\" onclick=\"convertToInteractive('df-bc59d326-048e-41ca-bf41-5ed3fdb8aa52')\"\n",
              "              title=\"Convert this dataframe to an interactive table.\"\n",
              "              style=\"display:none;\">\n",
              "        \n",
              "  <svg xmlns=\"http://www.w3.org/2000/svg\" height=\"24px\"viewBox=\"0 0 24 24\"\n",
              "       width=\"24px\">\n",
              "    <path d=\"M0 0h24v24H0V0z\" fill=\"none\"/>\n",
              "    <path d=\"M18.56 5.44l.94 2.06.94-2.06 2.06-.94-2.06-.94-.94-2.06-.94 2.06-2.06.94zm-11 1L8.5 8.5l.94-2.06 2.06-.94-2.06-.94L8.5 2.5l-.94 2.06-2.06.94zm10 10l.94 2.06.94-2.06 2.06-.94-2.06-.94-.94-2.06-.94 2.06-2.06.94z\"/><path d=\"M17.41 7.96l-1.37-1.37c-.4-.4-.92-.59-1.43-.59-.52 0-1.04.2-1.43.59L10.3 9.45l-7.72 7.72c-.78.78-.78 2.05 0 2.83L4 21.41c.39.39.9.59 1.41.59.51 0 1.02-.2 1.41-.59l7.78-7.78 2.81-2.81c.8-.78.8-2.07 0-2.86zM5.41 20L4 18.59l7.72-7.72 1.47 1.35L5.41 20z\"/>\n",
              "  </svg>\n",
              "      </button>\n",
              "      \n",
              "  <style>\n",
              "    .colab-df-container {\n",
              "      display:flex;\n",
              "      flex-wrap:wrap;\n",
              "      gap: 12px;\n",
              "    }\n",
              "\n",
              "    .colab-df-convert {\n",
              "      background-color: #E8F0FE;\n",
              "      border: none;\n",
              "      border-radius: 50%;\n",
              "      cursor: pointer;\n",
              "      display: none;\n",
              "      fill: #1967D2;\n",
              "      height: 32px;\n",
              "      padding: 0 0 0 0;\n",
              "      width: 32px;\n",
              "    }\n",
              "\n",
              "    .colab-df-convert:hover {\n",
              "      background-color: #E2EBFA;\n",
              "      box-shadow: 0px 1px 2px rgba(60, 64, 67, 0.3), 0px 1px 3px 1px rgba(60, 64, 67, 0.15);\n",
              "      fill: #174EA6;\n",
              "    }\n",
              "\n",
              "    [theme=dark] .colab-df-convert {\n",
              "      background-color: #3B4455;\n",
              "      fill: #D2E3FC;\n",
              "    }\n",
              "\n",
              "    [theme=dark] .colab-df-convert:hover {\n",
              "      background-color: #434B5C;\n",
              "      box-shadow: 0px 1px 3px 1px rgba(0, 0, 0, 0.15);\n",
              "      filter: drop-shadow(0px 1px 2px rgba(0, 0, 0, 0.3));\n",
              "      fill: #FFFFFF;\n",
              "    }\n",
              "  </style>\n",
              "\n",
              "      <script>\n",
              "        const buttonEl =\n",
              "          document.querySelector('#df-bc59d326-048e-41ca-bf41-5ed3fdb8aa52 button.colab-df-convert');\n",
              "        buttonEl.style.display =\n",
              "          google.colab.kernel.accessAllowed ? 'block' : 'none';\n",
              "\n",
              "        async function convertToInteractive(key) {\n",
              "          const element = document.querySelector('#df-bc59d326-048e-41ca-bf41-5ed3fdb8aa52');\n",
              "          const dataTable =\n",
              "            await google.colab.kernel.invokeFunction('convertToInteractive',\n",
              "                                                     [key], {});\n",
              "          if (!dataTable) return;\n",
              "\n",
              "          const docLinkHtml = 'Like what you see? Visit the ' +\n",
              "            '<a target=\"_blank\" href=https://colab.research.google.com/notebooks/data_table.ipynb>data table notebook</a>'\n",
              "            + ' to learn more about interactive tables.';\n",
              "          element.innerHTML = '';\n",
              "          dataTable['output_type'] = 'display_data';\n",
              "          await google.colab.output.renderOutput(dataTable, element);\n",
              "          const docLink = document.createElement('div');\n",
              "          docLink.innerHTML = docLinkHtml;\n",
              "          element.appendChild(docLink);\n",
              "        }\n",
              "      </script>\n",
              "    </div>\n",
              "  </div>\n",
              "  "
            ]
          },
          "metadata": {},
          "execution_count": 72
        }
      ],
      "source": [
        "nyse_breaks.head(2)"
      ]
    },
    {
      "cell_type": "markdown",
      "id": "d6d9a04c-a327-4615-ba6d-1b6514bd0887",
      "metadata": {
        "id": "d6d9a04c-a327-4615-ba6d-1b6514bd0887"
      },
      "source": [
        "> Group all remaining stocks at each Jun into one of 6 categories"
      ]
    },
    {
      "cell_type": "code",
      "execution_count": null,
      "id": "1795ffc4-d85a-4f37-bfab-6a5f7669c0c8",
      "metadata": {
        "id": "1795ffc4-d85a-4f37-bfab-6a5f7669c0c8"
      },
      "outputs": [],
      "source": [
        "nyse_breaks.to_sql('nyse_breaks', local_sql, index=False)\n",
        "ccm_jun.to_sql('ccm_jun', local_sql, index=False) \n",
        "\n",
        "sqlcode=\"\"\" \n",
        "    select a.permno, a.date, a.exchcd, a.shrcd, \n",
        "    case when JUN_ME <= jun_me_q5 then 'S' else 'B' end as sizeport,\n",
        "    case when beme <= beme_q3 then 'L' when beme > beme_q7 then 'H'\n",
        "    else 'M' end as btmport\n",
        "    from ccm_jun as a inner join nyse_breaks as b\n",
        "    on a.date=b.date and shrcd in (10,11) \n",
        "\"\"\"\n",
        "\n",
        "ccm_nyse_port=pd.read_sql_query(sqlcode, local_sql)"
      ]
    },
    {
      "cell_type": "code",
      "execution_count": null,
      "id": "757cbdcc-2361-4d94-81c4-0a155e208707",
      "metadata": {
        "id": "757cbdcc-2361-4d94-81c4-0a155e208707",
        "outputId": "2651a360-9a5a-4f72-f8b4-3def5c64c294",
        "colab": {
          "base_uri": "https://localhost:8080/",
          "height": 112
        }
      },
      "outputs": [
        {
          "output_type": "execute_result",
          "data": {
            "text/plain": [
              "    permno                 date  exchcd  shrcd sizeport btmport\n",
              "0  10001.0  1989-06-30 00:00:00     3.0   11.0        S       H\n",
              "1  10001.0  1990-06-30 00:00:00     3.0   11.0        S       M"
            ],
            "text/html": [
              "\n",
              "  <div id=\"df-00551235-3c80-48cf-9f10-23a249fdd158\">\n",
              "    <div class=\"colab-df-container\">\n",
              "      <div>\n",
              "<style scoped>\n",
              "    .dataframe tbody tr th:only-of-type {\n",
              "        vertical-align: middle;\n",
              "    }\n",
              "\n",
              "    .dataframe tbody tr th {\n",
              "        vertical-align: top;\n",
              "    }\n",
              "\n",
              "    .dataframe thead th {\n",
              "        text-align: right;\n",
              "    }\n",
              "</style>\n",
              "<table border=\"1\" class=\"dataframe\">\n",
              "  <thead>\n",
              "    <tr style=\"text-align: right;\">\n",
              "      <th></th>\n",
              "      <th>permno</th>\n",
              "      <th>date</th>\n",
              "      <th>exchcd</th>\n",
              "      <th>shrcd</th>\n",
              "      <th>sizeport</th>\n",
              "      <th>btmport</th>\n",
              "    </tr>\n",
              "  </thead>\n",
              "  <tbody>\n",
              "    <tr>\n",
              "      <th>0</th>\n",
              "      <td>10001.0</td>\n",
              "      <td>1989-06-30 00:00:00</td>\n",
              "      <td>3.0</td>\n",
              "      <td>11.0</td>\n",
              "      <td>S</td>\n",
              "      <td>H</td>\n",
              "    </tr>\n",
              "    <tr>\n",
              "      <th>1</th>\n",
              "      <td>10001.0</td>\n",
              "      <td>1990-06-30 00:00:00</td>\n",
              "      <td>3.0</td>\n",
              "      <td>11.0</td>\n",
              "      <td>S</td>\n",
              "      <td>M</td>\n",
              "    </tr>\n",
              "  </tbody>\n",
              "</table>\n",
              "</div>\n",
              "      <button class=\"colab-df-convert\" onclick=\"convertToInteractive('df-00551235-3c80-48cf-9f10-23a249fdd158')\"\n",
              "              title=\"Convert this dataframe to an interactive table.\"\n",
              "              style=\"display:none;\">\n",
              "        \n",
              "  <svg xmlns=\"http://www.w3.org/2000/svg\" height=\"24px\"viewBox=\"0 0 24 24\"\n",
              "       width=\"24px\">\n",
              "    <path d=\"M0 0h24v24H0V0z\" fill=\"none\"/>\n",
              "    <path d=\"M18.56 5.44l.94 2.06.94-2.06 2.06-.94-2.06-.94-.94-2.06-.94 2.06-2.06.94zm-11 1L8.5 8.5l.94-2.06 2.06-.94-2.06-.94L8.5 2.5l-.94 2.06-2.06.94zm10 10l.94 2.06.94-2.06 2.06-.94-2.06-.94-.94-2.06-.94 2.06-2.06.94z\"/><path d=\"M17.41 7.96l-1.37-1.37c-.4-.4-.92-.59-1.43-.59-.52 0-1.04.2-1.43.59L10.3 9.45l-7.72 7.72c-.78.78-.78 2.05 0 2.83L4 21.41c.39.39.9.59 1.41.59.51 0 1.02-.2 1.41-.59l7.78-7.78 2.81-2.81c.8-.78.8-2.07 0-2.86zM5.41 20L4 18.59l7.72-7.72 1.47 1.35L5.41 20z\"/>\n",
              "  </svg>\n",
              "      </button>\n",
              "      \n",
              "  <style>\n",
              "    .colab-df-container {\n",
              "      display:flex;\n",
              "      flex-wrap:wrap;\n",
              "      gap: 12px;\n",
              "    }\n",
              "\n",
              "    .colab-df-convert {\n",
              "      background-color: #E8F0FE;\n",
              "      border: none;\n",
              "      border-radius: 50%;\n",
              "      cursor: pointer;\n",
              "      display: none;\n",
              "      fill: #1967D2;\n",
              "      height: 32px;\n",
              "      padding: 0 0 0 0;\n",
              "      width: 32px;\n",
              "    }\n",
              "\n",
              "    .colab-df-convert:hover {\n",
              "      background-color: #E2EBFA;\n",
              "      box-shadow: 0px 1px 2px rgba(60, 64, 67, 0.3), 0px 1px 3px 1px rgba(60, 64, 67, 0.15);\n",
              "      fill: #174EA6;\n",
              "    }\n",
              "\n",
              "    [theme=dark] .colab-df-convert {\n",
              "      background-color: #3B4455;\n",
              "      fill: #D2E3FC;\n",
              "    }\n",
              "\n",
              "    [theme=dark] .colab-df-convert:hover {\n",
              "      background-color: #434B5C;\n",
              "      box-shadow: 0px 1px 3px 1px rgba(0, 0, 0, 0.15);\n",
              "      filter: drop-shadow(0px 1px 2px rgba(0, 0, 0, 0.3));\n",
              "      fill: #FFFFFF;\n",
              "    }\n",
              "  </style>\n",
              "\n",
              "      <script>\n",
              "        const buttonEl =\n",
              "          document.querySelector('#df-00551235-3c80-48cf-9f10-23a249fdd158 button.colab-df-convert');\n",
              "        buttonEl.style.display =\n",
              "          google.colab.kernel.accessAllowed ? 'block' : 'none';\n",
              "\n",
              "        async function convertToInteractive(key) {\n",
              "          const element = document.querySelector('#df-00551235-3c80-48cf-9f10-23a249fdd158');\n",
              "          const dataTable =\n",
              "            await google.colab.kernel.invokeFunction('convertToInteractive',\n",
              "                                                     [key], {});\n",
              "          if (!dataTable) return;\n",
              "\n",
              "          const docLinkHtml = 'Like what you see? Visit the ' +\n",
              "            '<a target=\"_blank\" href=https://colab.research.google.com/notebooks/data_table.ipynb>data table notebook</a>'\n",
              "            + ' to learn more about interactive tables.';\n",
              "          element.innerHTML = '';\n",
              "          dataTable['output_type'] = 'display_data';\n",
              "          await google.colab.output.renderOutput(dataTable, element);\n",
              "          const docLink = document.createElement('div');\n",
              "          docLink.innerHTML = docLinkHtml;\n",
              "          element.appendChild(docLink);\n",
              "        }\n",
              "      </script>\n",
              "    </div>\n",
              "  </div>\n",
              "  "
            ]
          },
          "metadata": {},
          "execution_count": 74
        }
      ],
      "source": [
        "ccm_nyse_port.head(2)"
      ]
    },
    {
      "cell_type": "markdown",
      "id": "f911ee93-f435-4a61-9bc5-0324f75271c5",
      "metadata": {
        "id": "f911ee93-f435-4a61-9bc5-0324f75271c5"
      },
      "source": [
        "> Fama French (1993) to keep the stock in the same portfolio and carry forward for 12 months\n",
        "> - For simplicity, I use previous market cap to construct weight factors:\n",
        "![FFM Weight](http://drive.google.com/uc?export=view&id=11jdZjIaKCvoC_tcFvWudlHSpF-jCnomg)"
      ]
    },
    {
      "cell_type": "code",
      "execution_count": null,
      "id": "9ea3d295-341a-4070-b631-3795c47758e4",
      "metadata": {
        "id": "9ea3d295-341a-4070-b631-3795c47758e4"
      },
      "outputs": [],
      "source": [
        "ccm_nyse_port.to_sql('ccm_nyse_port', local_sql, index=False)\n",
        "msf[msf['weight_port']>0].to_sql('msf', local_sql, index=True) \n",
        "\n",
        "sqlcode=\"\"\" \n",
        "    select a.*, b.sizeport, b.btmport, b.date as portdate, date(b.date, \"start of month\", \"+13 month\")  as next_july\n",
        "    from msf as a, ccm_nyse_port as b\n",
        "    where a.permno=b.permno and a.date>b.date and\n",
        "    a.date<date(b.date, \"start of month\", \"+13 month\") \n",
        "    order by a.date, sizeport, btmport\n",
        "\"\"\"\n",
        "\n",
        "port_ccm=pd.read_sql_query(sqlcode, local_sql)"
      ]
    },
    {
      "cell_type": "code",
      "execution_count": null,
      "id": "dd1486a3-bde6-43ec-bcd6-21d4539efd33",
      "metadata": {
        "id": "dd1486a3-bde6-43ec-bcd6-21d4539efd33"
      },
      "outputs": [],
      "source": [
        "port_ccm.to_sql('port_ccm', local_sql, index=False) \n",
        "\n",
        "sqlcode=\"\"\" \n",
        "    select distinct date, sizeport, btmport, count(distinct permno) as n_firms,\n",
        "    sum(weight_port*retadj)/sum(weight_port) as vwret\n",
        "    from port_ccm\n",
        "    group by date, sizeport, btmport\n",
        "\"\"\"\n",
        "\n",
        "port_ccm_vwret=pd.read_sql_query(sqlcode, local_sql)"
      ]
    },
    {
      "cell_type": "code",
      "execution_count": null,
      "id": "be9cc298-c715-406c-aaad-a9d21d65c3c8",
      "metadata": {
        "id": "be9cc298-c715-406c-aaad-a9d21d65c3c8",
        "outputId": "1b6ab802-157b-4197-8772-18a9042aadf9",
        "colab": {
          "base_uri": "https://localhost:8080/",
          "height": 143
        }
      },
      "outputs": [
        {
          "output_type": "execute_result",
          "data": {
            "text/plain": [
              "        date sizeport btmport  n_firms     vwret port_type\n",
              "0 1962-07-31        B       H       10  0.059781        BH\n",
              "1 1962-07-31        B       L       13  0.095592        BL\n",
              "2 1962-07-31        B       M       17  0.071807        BM"
            ],
            "text/html": [
              "\n",
              "  <div id=\"df-82a29b14-3d21-455a-9256-334e17e69e94\">\n",
              "    <div class=\"colab-df-container\">\n",
              "      <div>\n",
              "<style scoped>\n",
              "    .dataframe tbody tr th:only-of-type {\n",
              "        vertical-align: middle;\n",
              "    }\n",
              "\n",
              "    .dataframe tbody tr th {\n",
              "        vertical-align: top;\n",
              "    }\n",
              "\n",
              "    .dataframe thead th {\n",
              "        text-align: right;\n",
              "    }\n",
              "</style>\n",
              "<table border=\"1\" class=\"dataframe\">\n",
              "  <thead>\n",
              "    <tr style=\"text-align: right;\">\n",
              "      <th></th>\n",
              "      <th>date</th>\n",
              "      <th>sizeport</th>\n",
              "      <th>btmport</th>\n",
              "      <th>n_firms</th>\n",
              "      <th>vwret</th>\n",
              "      <th>port_type</th>\n",
              "    </tr>\n",
              "  </thead>\n",
              "  <tbody>\n",
              "    <tr>\n",
              "      <th>0</th>\n",
              "      <td>1962-07-31</td>\n",
              "      <td>B</td>\n",
              "      <td>H</td>\n",
              "      <td>10</td>\n",
              "      <td>0.059781</td>\n",
              "      <td>BH</td>\n",
              "    </tr>\n",
              "    <tr>\n",
              "      <th>1</th>\n",
              "      <td>1962-07-31</td>\n",
              "      <td>B</td>\n",
              "      <td>L</td>\n",
              "      <td>13</td>\n",
              "      <td>0.095592</td>\n",
              "      <td>BL</td>\n",
              "    </tr>\n",
              "    <tr>\n",
              "      <th>2</th>\n",
              "      <td>1962-07-31</td>\n",
              "      <td>B</td>\n",
              "      <td>M</td>\n",
              "      <td>17</td>\n",
              "      <td>0.071807</td>\n",
              "      <td>BM</td>\n",
              "    </tr>\n",
              "  </tbody>\n",
              "</table>\n",
              "</div>\n",
              "      <button class=\"colab-df-convert\" onclick=\"convertToInteractive('df-82a29b14-3d21-455a-9256-334e17e69e94')\"\n",
              "              title=\"Convert this dataframe to an interactive table.\"\n",
              "              style=\"display:none;\">\n",
              "        \n",
              "  <svg xmlns=\"http://www.w3.org/2000/svg\" height=\"24px\"viewBox=\"0 0 24 24\"\n",
              "       width=\"24px\">\n",
              "    <path d=\"M0 0h24v24H0V0z\" fill=\"none\"/>\n",
              "    <path d=\"M18.56 5.44l.94 2.06.94-2.06 2.06-.94-2.06-.94-.94-2.06-.94 2.06-2.06.94zm-11 1L8.5 8.5l.94-2.06 2.06-.94-2.06-.94L8.5 2.5l-.94 2.06-2.06.94zm10 10l.94 2.06.94-2.06 2.06-.94-2.06-.94-.94-2.06-.94 2.06-2.06.94z\"/><path d=\"M17.41 7.96l-1.37-1.37c-.4-.4-.92-.59-1.43-.59-.52 0-1.04.2-1.43.59L10.3 9.45l-7.72 7.72c-.78.78-.78 2.05 0 2.83L4 21.41c.39.39.9.59 1.41.59.51 0 1.02-.2 1.41-.59l7.78-7.78 2.81-2.81c.8-.78.8-2.07 0-2.86zM5.41 20L4 18.59l7.72-7.72 1.47 1.35L5.41 20z\"/>\n",
              "  </svg>\n",
              "      </button>\n",
              "      \n",
              "  <style>\n",
              "    .colab-df-container {\n",
              "      display:flex;\n",
              "      flex-wrap:wrap;\n",
              "      gap: 12px;\n",
              "    }\n",
              "\n",
              "    .colab-df-convert {\n",
              "      background-color: #E8F0FE;\n",
              "      border: none;\n",
              "      border-radius: 50%;\n",
              "      cursor: pointer;\n",
              "      display: none;\n",
              "      fill: #1967D2;\n",
              "      height: 32px;\n",
              "      padding: 0 0 0 0;\n",
              "      width: 32px;\n",
              "    }\n",
              "\n",
              "    .colab-df-convert:hover {\n",
              "      background-color: #E2EBFA;\n",
              "      box-shadow: 0px 1px 2px rgba(60, 64, 67, 0.3), 0px 1px 3px 1px rgba(60, 64, 67, 0.15);\n",
              "      fill: #174EA6;\n",
              "    }\n",
              "\n",
              "    [theme=dark] .colab-df-convert {\n",
              "      background-color: #3B4455;\n",
              "      fill: #D2E3FC;\n",
              "    }\n",
              "\n",
              "    [theme=dark] .colab-df-convert:hover {\n",
              "      background-color: #434B5C;\n",
              "      box-shadow: 0px 1px 3px 1px rgba(0, 0, 0, 0.15);\n",
              "      filter: drop-shadow(0px 1px 2px rgba(0, 0, 0, 0.3));\n",
              "      fill: #FFFFFF;\n",
              "    }\n",
              "  </style>\n",
              "\n",
              "      <script>\n",
              "        const buttonEl =\n",
              "          document.querySelector('#df-82a29b14-3d21-455a-9256-334e17e69e94 button.colab-df-convert');\n",
              "        buttonEl.style.display =\n",
              "          google.colab.kernel.accessAllowed ? 'block' : 'none';\n",
              "\n",
              "        async function convertToInteractive(key) {\n",
              "          const element = document.querySelector('#df-82a29b14-3d21-455a-9256-334e17e69e94');\n",
              "          const dataTable =\n",
              "            await google.colab.kernel.invokeFunction('convertToInteractive',\n",
              "                                                     [key], {});\n",
              "          if (!dataTable) return;\n",
              "\n",
              "          const docLinkHtml = 'Like what you see? Visit the ' +\n",
              "            '<a target=\"_blank\" href=https://colab.research.google.com/notebooks/data_table.ipynb>data table notebook</a>'\n",
              "            + ' to learn more about interactive tables.';\n",
              "          element.innerHTML = '';\n",
              "          dataTable['output_type'] = 'display_data';\n",
              "          await google.colab.output.renderOutput(dataTable, element);\n",
              "          const docLink = document.createElement('div');\n",
              "          docLink.innerHTML = docLinkHtml;\n",
              "          element.appendChild(docLink);\n",
              "        }\n",
              "      </script>\n",
              "    </div>\n",
              "  </div>\n",
              "  "
            ]
          },
          "metadata": {},
          "execution_count": 77
        }
      ],
      "source": [
        "port_ccm_vwret['port_type']=port_ccm_vwret['sizeport']+port_ccm_vwret['btmport']\n",
        "port_ccm_vwret['date']=pd.to_datetime(port_ccm_vwret['date'])\n",
        "port_ccm_vwret.head(3)"
      ]
    },
    {
      "cell_type": "code",
      "execution_count": null,
      "id": "dc2a08df-5d3f-4e4f-a1eb-f3152e384b23",
      "metadata": {
        "id": "dc2a08df-5d3f-4e4f-a1eb-f3152e384b23"
      },
      "outputs": [],
      "source": [
        "# local_sql.close()\n",
        "# wrds_sql.close()\n",
        "# del [comp, ccm, msf, msf_jun, ccmxpf_lnkhist, nyse_breaks, ccm_nyse_port, port_ccm, local_sql, wrds_sql]"
      ]
    },
    {
      "cell_type": "code",
      "execution_count": null,
      "id": "da6a52f2-3b4a-4c53-ac9d-dba418ea8d20",
      "metadata": {
        "id": "da6a52f2-3b4a-4c53-ac9d-dba418ea8d20"
      },
      "outputs": [],
      "source": [
        "ff_vwret=port_ccm_vwret.pivot(index='date', columns=\"port_type\", values='vwret')"
      ]
    },
    {
      "cell_type": "code",
      "execution_count": null,
      "id": "892fcace-a518-4c01-90d7-be31c475bb03",
      "metadata": {
        "id": "892fcace-a518-4c01-90d7-be31c475bb03",
        "outputId": "9325c826-8c25-49ff-c4de-a7ff11728263",
        "colab": {
          "base_uri": "https://localhost:8080/",
          "height": 175
        }
      },
      "outputs": [
        {
          "output_type": "execute_result",
          "data": {
            "text/plain": [
              "port_type         BH        BL        BM        SH        SL        SM\n",
              "date                                                                  \n",
              "1962-07-31  0.059781  0.095592  0.071807  0.030883  0.069460  0.075573\n",
              "1962-08-31  0.040105  0.030217  0.027753  0.023607  0.033278  0.027525\n",
              "1962-09-30 -0.028539 -0.022686 -0.038757 -0.025749 -0.009178 -0.001652"
            ],
            "text/html": [
              "\n",
              "  <div id=\"df-29f812e4-2288-4dd4-824e-2dbd6df447d3\">\n",
              "    <div class=\"colab-df-container\">\n",
              "      <div>\n",
              "<style scoped>\n",
              "    .dataframe tbody tr th:only-of-type {\n",
              "        vertical-align: middle;\n",
              "    }\n",
              "\n",
              "    .dataframe tbody tr th {\n",
              "        vertical-align: top;\n",
              "    }\n",
              "\n",
              "    .dataframe thead th {\n",
              "        text-align: right;\n",
              "    }\n",
              "</style>\n",
              "<table border=\"1\" class=\"dataframe\">\n",
              "  <thead>\n",
              "    <tr style=\"text-align: right;\">\n",
              "      <th>port_type</th>\n",
              "      <th>BH</th>\n",
              "      <th>BL</th>\n",
              "      <th>BM</th>\n",
              "      <th>SH</th>\n",
              "      <th>SL</th>\n",
              "      <th>SM</th>\n",
              "    </tr>\n",
              "    <tr>\n",
              "      <th>date</th>\n",
              "      <th></th>\n",
              "      <th></th>\n",
              "      <th></th>\n",
              "      <th></th>\n",
              "      <th></th>\n",
              "      <th></th>\n",
              "    </tr>\n",
              "  </thead>\n",
              "  <tbody>\n",
              "    <tr>\n",
              "      <th>1962-07-31</th>\n",
              "      <td>0.059781</td>\n",
              "      <td>0.095592</td>\n",
              "      <td>0.071807</td>\n",
              "      <td>0.030883</td>\n",
              "      <td>0.069460</td>\n",
              "      <td>0.075573</td>\n",
              "    </tr>\n",
              "    <tr>\n",
              "      <th>1962-08-31</th>\n",
              "      <td>0.040105</td>\n",
              "      <td>0.030217</td>\n",
              "      <td>0.027753</td>\n",
              "      <td>0.023607</td>\n",
              "      <td>0.033278</td>\n",
              "      <td>0.027525</td>\n",
              "    </tr>\n",
              "    <tr>\n",
              "      <th>1962-09-30</th>\n",
              "      <td>-0.028539</td>\n",
              "      <td>-0.022686</td>\n",
              "      <td>-0.038757</td>\n",
              "      <td>-0.025749</td>\n",
              "      <td>-0.009178</td>\n",
              "      <td>-0.001652</td>\n",
              "    </tr>\n",
              "  </tbody>\n",
              "</table>\n",
              "</div>\n",
              "      <button class=\"colab-df-convert\" onclick=\"convertToInteractive('df-29f812e4-2288-4dd4-824e-2dbd6df447d3')\"\n",
              "              title=\"Convert this dataframe to an interactive table.\"\n",
              "              style=\"display:none;\">\n",
              "        \n",
              "  <svg xmlns=\"http://www.w3.org/2000/svg\" height=\"24px\"viewBox=\"0 0 24 24\"\n",
              "       width=\"24px\">\n",
              "    <path d=\"M0 0h24v24H0V0z\" fill=\"none\"/>\n",
              "    <path d=\"M18.56 5.44l.94 2.06.94-2.06 2.06-.94-2.06-.94-.94-2.06-.94 2.06-2.06.94zm-11 1L8.5 8.5l.94-2.06 2.06-.94-2.06-.94L8.5 2.5l-.94 2.06-2.06.94zm10 10l.94 2.06.94-2.06 2.06-.94-2.06-.94-.94-2.06-.94 2.06-2.06.94z\"/><path d=\"M17.41 7.96l-1.37-1.37c-.4-.4-.92-.59-1.43-.59-.52 0-1.04.2-1.43.59L10.3 9.45l-7.72 7.72c-.78.78-.78 2.05 0 2.83L4 21.41c.39.39.9.59 1.41.59.51 0 1.02-.2 1.41-.59l7.78-7.78 2.81-2.81c.8-.78.8-2.07 0-2.86zM5.41 20L4 18.59l7.72-7.72 1.47 1.35L5.41 20z\"/>\n",
              "  </svg>\n",
              "      </button>\n",
              "      \n",
              "  <style>\n",
              "    .colab-df-container {\n",
              "      display:flex;\n",
              "      flex-wrap:wrap;\n",
              "      gap: 12px;\n",
              "    }\n",
              "\n",
              "    .colab-df-convert {\n",
              "      background-color: #E8F0FE;\n",
              "      border: none;\n",
              "      border-radius: 50%;\n",
              "      cursor: pointer;\n",
              "      display: none;\n",
              "      fill: #1967D2;\n",
              "      height: 32px;\n",
              "      padding: 0 0 0 0;\n",
              "      width: 32px;\n",
              "    }\n",
              "\n",
              "    .colab-df-convert:hover {\n",
              "      background-color: #E2EBFA;\n",
              "      box-shadow: 0px 1px 2px rgba(60, 64, 67, 0.3), 0px 1px 3px 1px rgba(60, 64, 67, 0.15);\n",
              "      fill: #174EA6;\n",
              "    }\n",
              "\n",
              "    [theme=dark] .colab-df-convert {\n",
              "      background-color: #3B4455;\n",
              "      fill: #D2E3FC;\n",
              "    }\n",
              "\n",
              "    [theme=dark] .colab-df-convert:hover {\n",
              "      background-color: #434B5C;\n",
              "      box-shadow: 0px 1px 3px 1px rgba(0, 0, 0, 0.15);\n",
              "      filter: drop-shadow(0px 1px 2px rgba(0, 0, 0, 0.3));\n",
              "      fill: #FFFFFF;\n",
              "    }\n",
              "  </style>\n",
              "\n",
              "      <script>\n",
              "        const buttonEl =\n",
              "          document.querySelector('#df-29f812e4-2288-4dd4-824e-2dbd6df447d3 button.colab-df-convert');\n",
              "        buttonEl.style.display =\n",
              "          google.colab.kernel.accessAllowed ? 'block' : 'none';\n",
              "\n",
              "        async function convertToInteractive(key) {\n",
              "          const element = document.querySelector('#df-29f812e4-2288-4dd4-824e-2dbd6df447d3');\n",
              "          const dataTable =\n",
              "            await google.colab.kernel.invokeFunction('convertToInteractive',\n",
              "                                                     [key], {});\n",
              "          if (!dataTable) return;\n",
              "\n",
              "          const docLinkHtml = 'Like what you see? Visit the ' +\n",
              "            '<a target=\"_blank\" href=https://colab.research.google.com/notebooks/data_table.ipynb>data table notebook</a>'\n",
              "            + ' to learn more about interactive tables.';\n",
              "          element.innerHTML = '';\n",
              "          dataTable['output_type'] = 'display_data';\n",
              "          await google.colab.output.renderOutput(dataTable, element);\n",
              "          const docLink = document.createElement('div');\n",
              "          docLink.innerHTML = docLinkHtml;\n",
              "          element.appendChild(docLink);\n",
              "        }\n",
              "      </script>\n",
              "    </div>\n",
              "  </div>\n",
              "  "
            ]
          },
          "metadata": {},
          "execution_count": 79
        }
      ],
      "source": [
        "ff_vwret.head(3)"
      ]
    },
    {
      "cell_type": "markdown",
      "id": "feb3b208-2cc1-48f6-8608-f21190c07256",
      "metadata": {
        "id": "feb3b208-2cc1-48f6-8608-f21190c07256"
      },
      "source": [
        "> I then follow Fama and French (1993) to construct HML and SMB factors: \n",
        "![FFM Weight](http://drive.google.com/uc?export=view&id=12Ea_jNzq5dzxlCjJxmiw8wNRMhPPa_Nv)\n"
      ]
    },
    {
      "cell_type": "code",
      "execution_count": null,
      "id": "c4efb736-a14c-4948-84f3-1fb9033d755a",
      "metadata": {
        "id": "c4efb736-a14c-4948-84f3-1fb9033d755a"
      },
      "outputs": [],
      "source": [
        "ff_vwret['High']=(ff_vwret['BH']+ff_vwret['SH'])/2\n",
        "ff_vwret['Low']=(ff_vwret['BL']+ff_vwret['SL'])/2\n",
        "ff_vwret['HML']=ff_vwret['High'] - ff_vwret['Low']\n",
        "\n",
        "ff_vwret['Small']=(ff_vwret['SL']+ff_vwret['SM']+ff_vwret['SH'])/3\n",
        "ff_vwret['Big']=(ff_vwret['BL']+ff_vwret['BM']+ff_vwret['BH'])/3\n",
        "ff_vwret['SMB']=ff_vwret['Small']-ff_vwret['Big']"
      ]
    },
    {
      "cell_type": "code",
      "execution_count": null,
      "id": "ac2b91d6-b1f5-429e-ad6a-aa4324acc447",
      "metadata": {
        "id": "ac2b91d6-b1f5-429e-ad6a-aa4324acc447",
        "outputId": "afa9ec6a-5a03-42a1-8ae4-9d61a7c5860e",
        "colab": {
          "base_uri": "https://localhost:8080/",
          "height": 143
        }
      },
      "outputs": [
        {
          "output_type": "execute_result",
          "data": {
            "text/plain": [
              "port_type         BH        BL       BM        SH        SL        SM  \\\n",
              "date                                                                    \n",
              "2022-02-28  0.009284 -0.038501 -0.00284  0.026749 -0.004099  0.012033   \n",
              "2022-03-31  0.024046  0.042120  0.01547  0.013909  0.020105  0.002066   \n",
              "\n",
              "port_type       High       Low       HML     Small       Big       SMB  \n",
              "date                                                                    \n",
              "2022-02-28  0.018016 -0.021300  0.039316  0.011561 -0.010686  0.022247  \n",
              "2022-03-31  0.018977  0.031112 -0.012135  0.012027  0.027212 -0.015185  "
            ],
            "text/html": [
              "\n",
              "  <div id=\"df-f035c0a1-ae8a-4159-a16f-e6e103ac4391\">\n",
              "    <div class=\"colab-df-container\">\n",
              "      <div>\n",
              "<style scoped>\n",
              "    .dataframe tbody tr th:only-of-type {\n",
              "        vertical-align: middle;\n",
              "    }\n",
              "\n",
              "    .dataframe tbody tr th {\n",
              "        vertical-align: top;\n",
              "    }\n",
              "\n",
              "    .dataframe thead th {\n",
              "        text-align: right;\n",
              "    }\n",
              "</style>\n",
              "<table border=\"1\" class=\"dataframe\">\n",
              "  <thead>\n",
              "    <tr style=\"text-align: right;\">\n",
              "      <th>port_type</th>\n",
              "      <th>BH</th>\n",
              "      <th>BL</th>\n",
              "      <th>BM</th>\n",
              "      <th>SH</th>\n",
              "      <th>SL</th>\n",
              "      <th>SM</th>\n",
              "      <th>High</th>\n",
              "      <th>Low</th>\n",
              "      <th>HML</th>\n",
              "      <th>Small</th>\n",
              "      <th>Big</th>\n",
              "      <th>SMB</th>\n",
              "    </tr>\n",
              "    <tr>\n",
              "      <th>date</th>\n",
              "      <th></th>\n",
              "      <th></th>\n",
              "      <th></th>\n",
              "      <th></th>\n",
              "      <th></th>\n",
              "      <th></th>\n",
              "      <th></th>\n",
              "      <th></th>\n",
              "      <th></th>\n",
              "      <th></th>\n",
              "      <th></th>\n",
              "      <th></th>\n",
              "    </tr>\n",
              "  </thead>\n",
              "  <tbody>\n",
              "    <tr>\n",
              "      <th>2022-02-28</th>\n",
              "      <td>0.009284</td>\n",
              "      <td>-0.038501</td>\n",
              "      <td>-0.00284</td>\n",
              "      <td>0.026749</td>\n",
              "      <td>-0.004099</td>\n",
              "      <td>0.012033</td>\n",
              "      <td>0.018016</td>\n",
              "      <td>-0.021300</td>\n",
              "      <td>0.039316</td>\n",
              "      <td>0.011561</td>\n",
              "      <td>-0.010686</td>\n",
              "      <td>0.022247</td>\n",
              "    </tr>\n",
              "    <tr>\n",
              "      <th>2022-03-31</th>\n",
              "      <td>0.024046</td>\n",
              "      <td>0.042120</td>\n",
              "      <td>0.01547</td>\n",
              "      <td>0.013909</td>\n",
              "      <td>0.020105</td>\n",
              "      <td>0.002066</td>\n",
              "      <td>0.018977</td>\n",
              "      <td>0.031112</td>\n",
              "      <td>-0.012135</td>\n",
              "      <td>0.012027</td>\n",
              "      <td>0.027212</td>\n",
              "      <td>-0.015185</td>\n",
              "    </tr>\n",
              "  </tbody>\n",
              "</table>\n",
              "</div>\n",
              "      <button class=\"colab-df-convert\" onclick=\"convertToInteractive('df-f035c0a1-ae8a-4159-a16f-e6e103ac4391')\"\n",
              "              title=\"Convert this dataframe to an interactive table.\"\n",
              "              style=\"display:none;\">\n",
              "        \n",
              "  <svg xmlns=\"http://www.w3.org/2000/svg\" height=\"24px\"viewBox=\"0 0 24 24\"\n",
              "       width=\"24px\">\n",
              "    <path d=\"M0 0h24v24H0V0z\" fill=\"none\"/>\n",
              "    <path d=\"M18.56 5.44l.94 2.06.94-2.06 2.06-.94-2.06-.94-.94-2.06-.94 2.06-2.06.94zm-11 1L8.5 8.5l.94-2.06 2.06-.94-2.06-.94L8.5 2.5l-.94 2.06-2.06.94zm10 10l.94 2.06.94-2.06 2.06-.94-2.06-.94-.94-2.06-.94 2.06-2.06.94z\"/><path d=\"M17.41 7.96l-1.37-1.37c-.4-.4-.92-.59-1.43-.59-.52 0-1.04.2-1.43.59L10.3 9.45l-7.72 7.72c-.78.78-.78 2.05 0 2.83L4 21.41c.39.39.9.59 1.41.59.51 0 1.02-.2 1.41-.59l7.78-7.78 2.81-2.81c.8-.78.8-2.07 0-2.86zM5.41 20L4 18.59l7.72-7.72 1.47 1.35L5.41 20z\"/>\n",
              "  </svg>\n",
              "      </button>\n",
              "      \n",
              "  <style>\n",
              "    .colab-df-container {\n",
              "      display:flex;\n",
              "      flex-wrap:wrap;\n",
              "      gap: 12px;\n",
              "    }\n",
              "\n",
              "    .colab-df-convert {\n",
              "      background-color: #E8F0FE;\n",
              "      border: none;\n",
              "      border-radius: 50%;\n",
              "      cursor: pointer;\n",
              "      display: none;\n",
              "      fill: #1967D2;\n",
              "      height: 32px;\n",
              "      padding: 0 0 0 0;\n",
              "      width: 32px;\n",
              "    }\n",
              "\n",
              "    .colab-df-convert:hover {\n",
              "      background-color: #E2EBFA;\n",
              "      box-shadow: 0px 1px 2px rgba(60, 64, 67, 0.3), 0px 1px 3px 1px rgba(60, 64, 67, 0.15);\n",
              "      fill: #174EA6;\n",
              "    }\n",
              "\n",
              "    [theme=dark] .colab-df-convert {\n",
              "      background-color: #3B4455;\n",
              "      fill: #D2E3FC;\n",
              "    }\n",
              "\n",
              "    [theme=dark] .colab-df-convert:hover {\n",
              "      background-color: #434B5C;\n",
              "      box-shadow: 0px 1px 3px 1px rgba(0, 0, 0, 0.15);\n",
              "      filter: drop-shadow(0px 1px 2px rgba(0, 0, 0, 0.3));\n",
              "      fill: #FFFFFF;\n",
              "    }\n",
              "  </style>\n",
              "\n",
              "      <script>\n",
              "        const buttonEl =\n",
              "          document.querySelector('#df-f035c0a1-ae8a-4159-a16f-e6e103ac4391 button.colab-df-convert');\n",
              "        buttonEl.style.display =\n",
              "          google.colab.kernel.accessAllowed ? 'block' : 'none';\n",
              "\n",
              "        async function convertToInteractive(key) {\n",
              "          const element = document.querySelector('#df-f035c0a1-ae8a-4159-a16f-e6e103ac4391');\n",
              "          const dataTable =\n",
              "            await google.colab.kernel.invokeFunction('convertToInteractive',\n",
              "                                                     [key], {});\n",
              "          if (!dataTable) return;\n",
              "\n",
              "          const docLinkHtml = 'Like what you see? Visit the ' +\n",
              "            '<a target=\"_blank\" href=https://colab.research.google.com/notebooks/data_table.ipynb>data table notebook</a>'\n",
              "            + ' to learn more about interactive tables.';\n",
              "          element.innerHTML = '';\n",
              "          dataTable['output_type'] = 'display_data';\n",
              "          await google.colab.output.renderOutput(dataTable, element);\n",
              "          const docLink = document.createElement('div');\n",
              "          docLink.innerHTML = docLinkHtml;\n",
              "          element.appendChild(docLink);\n",
              "        }\n",
              "      </script>\n",
              "    </div>\n",
              "  </div>\n",
              "  "
            ]
          },
          "metadata": {},
          "execution_count": 81
        }
      ],
      "source": [
        "ff_vwret.tail(2)"
      ]
    },
    {
      "cell_type": "markdown",
      "id": "11dbacf1-b7cf-47b2-af7b-d9af8ada2d04",
      "metadata": {
        "id": "11dbacf1-b7cf-47b2-af7b-d9af8ada2d04"
      },
      "source": [
        "> Compare with Data from Prof French's data library: "
      ]
    },
    {
      "cell_type": "code",
      "execution_count": null,
      "id": "dda01179-85f9-442f-b57f-ddbd646b9bfa",
      "metadata": {
        "id": "dda01179-85f9-442f-b57f-ddbd646b9bfa"
      },
      "outputs": [],
      "source": [
        "ff = wrds_sql.raw_sql(\"\"\"\n",
        "          select distinct mktrf, smb, hml, rf, umd, dateff\n",
        "          from ff.factors_monthly\n",
        "        \"\"\")\n",
        "ff['dateff']=pd.to_datetime(ff['dateff'])"
      ]
    },
    {
      "cell_type": "code",
      "execution_count": null,
      "id": "0e1cdbe8-d12c-4788-906e-151751959a2e",
      "metadata": {
        "id": "0e1cdbe8-d12c-4788-906e-151751959a2e",
        "outputId": "15a80b9c-a9f7-4f44-da44-7af3babb9fe2",
        "colab": {
          "base_uri": "https://localhost:8080/",
          "height": 112
        }
      },
      "outputs": [
        {
          "output_type": "execute_result",
          "data": {
            "text/plain": [
              "    mktrf     smb     hml      rf     umd     dateff\n",
              "0 -0.0114 -0.0265  0.0047  0.0034  0.0182 1972-09-29\n",
              "1  0.0418  0.0859 -0.0552  0.0054 -0.0880 1970-09-30"
            ],
            "text/html": [
              "\n",
              "  <div id=\"df-1a7d2bbb-1b4c-40ab-aac9-34a157c888d7\">\n",
              "    <div class=\"colab-df-container\">\n",
              "      <div>\n",
              "<style scoped>\n",
              "    .dataframe tbody tr th:only-of-type {\n",
              "        vertical-align: middle;\n",
              "    }\n",
              "\n",
              "    .dataframe tbody tr th {\n",
              "        vertical-align: top;\n",
              "    }\n",
              "\n",
              "    .dataframe thead th {\n",
              "        text-align: right;\n",
              "    }\n",
              "</style>\n",
              "<table border=\"1\" class=\"dataframe\">\n",
              "  <thead>\n",
              "    <tr style=\"text-align: right;\">\n",
              "      <th></th>\n",
              "      <th>mktrf</th>\n",
              "      <th>smb</th>\n",
              "      <th>hml</th>\n",
              "      <th>rf</th>\n",
              "      <th>umd</th>\n",
              "      <th>dateff</th>\n",
              "    </tr>\n",
              "  </thead>\n",
              "  <tbody>\n",
              "    <tr>\n",
              "      <th>0</th>\n",
              "      <td>-0.0114</td>\n",
              "      <td>-0.0265</td>\n",
              "      <td>0.0047</td>\n",
              "      <td>0.0034</td>\n",
              "      <td>0.0182</td>\n",
              "      <td>1972-09-29</td>\n",
              "    </tr>\n",
              "    <tr>\n",
              "      <th>1</th>\n",
              "      <td>0.0418</td>\n",
              "      <td>0.0859</td>\n",
              "      <td>-0.0552</td>\n",
              "      <td>0.0054</td>\n",
              "      <td>-0.0880</td>\n",
              "      <td>1970-09-30</td>\n",
              "    </tr>\n",
              "  </tbody>\n",
              "</table>\n",
              "</div>\n",
              "      <button class=\"colab-df-convert\" onclick=\"convertToInteractive('df-1a7d2bbb-1b4c-40ab-aac9-34a157c888d7')\"\n",
              "              title=\"Convert this dataframe to an interactive table.\"\n",
              "              style=\"display:none;\">\n",
              "        \n",
              "  <svg xmlns=\"http://www.w3.org/2000/svg\" height=\"24px\"viewBox=\"0 0 24 24\"\n",
              "       width=\"24px\">\n",
              "    <path d=\"M0 0h24v24H0V0z\" fill=\"none\"/>\n",
              "    <path d=\"M18.56 5.44l.94 2.06.94-2.06 2.06-.94-2.06-.94-.94-2.06-.94 2.06-2.06.94zm-11 1L8.5 8.5l.94-2.06 2.06-.94-2.06-.94L8.5 2.5l-.94 2.06-2.06.94zm10 10l.94 2.06.94-2.06 2.06-.94-2.06-.94-.94-2.06-.94 2.06-2.06.94z\"/><path d=\"M17.41 7.96l-1.37-1.37c-.4-.4-.92-.59-1.43-.59-.52 0-1.04.2-1.43.59L10.3 9.45l-7.72 7.72c-.78.78-.78 2.05 0 2.83L4 21.41c.39.39.9.59 1.41.59.51 0 1.02-.2 1.41-.59l7.78-7.78 2.81-2.81c.8-.78.8-2.07 0-2.86zM5.41 20L4 18.59l7.72-7.72 1.47 1.35L5.41 20z\"/>\n",
              "  </svg>\n",
              "      </button>\n",
              "      \n",
              "  <style>\n",
              "    .colab-df-container {\n",
              "      display:flex;\n",
              "      flex-wrap:wrap;\n",
              "      gap: 12px;\n",
              "    }\n",
              "\n",
              "    .colab-df-convert {\n",
              "      background-color: #E8F0FE;\n",
              "      border: none;\n",
              "      border-radius: 50%;\n",
              "      cursor: pointer;\n",
              "      display: none;\n",
              "      fill: #1967D2;\n",
              "      height: 32px;\n",
              "      padding: 0 0 0 0;\n",
              "      width: 32px;\n",
              "    }\n",
              "\n",
              "    .colab-df-convert:hover {\n",
              "      background-color: #E2EBFA;\n",
              "      box-shadow: 0px 1px 2px rgba(60, 64, 67, 0.3), 0px 1px 3px 1px rgba(60, 64, 67, 0.15);\n",
              "      fill: #174EA6;\n",
              "    }\n",
              "\n",
              "    [theme=dark] .colab-df-convert {\n",
              "      background-color: #3B4455;\n",
              "      fill: #D2E3FC;\n",
              "    }\n",
              "\n",
              "    [theme=dark] .colab-df-convert:hover {\n",
              "      background-color: #434B5C;\n",
              "      box-shadow: 0px 1px 3px 1px rgba(0, 0, 0, 0.15);\n",
              "      filter: drop-shadow(0px 1px 2px rgba(0, 0, 0, 0.3));\n",
              "      fill: #FFFFFF;\n",
              "    }\n",
              "  </style>\n",
              "\n",
              "      <script>\n",
              "        const buttonEl =\n",
              "          document.querySelector('#df-1a7d2bbb-1b4c-40ab-aac9-34a157c888d7 button.colab-df-convert');\n",
              "        buttonEl.style.display =\n",
              "          google.colab.kernel.accessAllowed ? 'block' : 'none';\n",
              "\n",
              "        async function convertToInteractive(key) {\n",
              "          const element = document.querySelector('#df-1a7d2bbb-1b4c-40ab-aac9-34a157c888d7');\n",
              "          const dataTable =\n",
              "            await google.colab.kernel.invokeFunction('convertToInteractive',\n",
              "                                                     [key], {});\n",
              "          if (!dataTable) return;\n",
              "\n",
              "          const docLinkHtml = 'Like what you see? Visit the ' +\n",
              "            '<a target=\"_blank\" href=https://colab.research.google.com/notebooks/data_table.ipynb>data table notebook</a>'\n",
              "            + ' to learn more about interactive tables.';\n",
              "          element.innerHTML = '';\n",
              "          dataTable['output_type'] = 'display_data';\n",
              "          await google.colab.output.renderOutput(dataTable, element);\n",
              "          const docLink = document.createElement('div');\n",
              "          docLink.innerHTML = docLinkHtml;\n",
              "          element.appendChild(docLink);\n",
              "        }\n",
              "      </script>\n",
              "    </div>\n",
              "  </div>\n",
              "  "
            ]
          },
          "metadata": {},
          "execution_count": 87
        }
      ],
      "source": [
        "ff.head(2)"
      ]
    },
    {
      "cell_type": "code",
      "execution_count": null,
      "id": "dc433d48-2f13-49fb-ad33-30e43b444c6e",
      "metadata": {
        "id": "dc433d48-2f13-49fb-ad33-30e43b444c6e",
        "outputId": "c6aaab65-c91e-4bbc-bda4-b356eb55163f",
        "colab": {
          "base_uri": "https://localhost:8080/",
          "height": 143
        }
      },
      "outputs": [
        {
          "output_type": "execute_result",
          "data": {
            "text/plain": [
              "                High       Low       Big     Small       HML       SMB  \\\n",
              "dateff                                                                   \n",
              "2022-02-28  0.018016 -0.021300 -0.010686  0.011561  0.039316  0.022247   \n",
              "2022-03-31  0.018977  0.031112  0.027212  0.012027 -0.012135 -0.015185   \n",
              "\n",
              "            FF_HML  FF_SMB  \n",
              "dateff                      \n",
              "2022-02-28  0.0309  0.0218  \n",
              "2022-03-31 -0.0182 -0.0161  "
            ],
            "text/html": [
              "\n",
              "  <div id=\"df-6334a81b-037c-43a5-a4ee-e269cd026306\">\n",
              "    <div class=\"colab-df-container\">\n",
              "      <div>\n",
              "<style scoped>\n",
              "    .dataframe tbody tr th:only-of-type {\n",
              "        vertical-align: middle;\n",
              "    }\n",
              "\n",
              "    .dataframe tbody tr th {\n",
              "        vertical-align: top;\n",
              "    }\n",
              "\n",
              "    .dataframe thead th {\n",
              "        text-align: right;\n",
              "    }\n",
              "</style>\n",
              "<table border=\"1\" class=\"dataframe\">\n",
              "  <thead>\n",
              "    <tr style=\"text-align: right;\">\n",
              "      <th></th>\n",
              "      <th>High</th>\n",
              "      <th>Low</th>\n",
              "      <th>Big</th>\n",
              "      <th>Small</th>\n",
              "      <th>HML</th>\n",
              "      <th>SMB</th>\n",
              "      <th>FF_HML</th>\n",
              "      <th>FF_SMB</th>\n",
              "    </tr>\n",
              "    <tr>\n",
              "      <th>dateff</th>\n",
              "      <th></th>\n",
              "      <th></th>\n",
              "      <th></th>\n",
              "      <th></th>\n",
              "      <th></th>\n",
              "      <th></th>\n",
              "      <th></th>\n",
              "      <th></th>\n",
              "    </tr>\n",
              "  </thead>\n",
              "  <tbody>\n",
              "    <tr>\n",
              "      <th>2022-02-28</th>\n",
              "      <td>0.018016</td>\n",
              "      <td>-0.021300</td>\n",
              "      <td>-0.010686</td>\n",
              "      <td>0.011561</td>\n",
              "      <td>0.039316</td>\n",
              "      <td>0.022247</td>\n",
              "      <td>0.0309</td>\n",
              "      <td>0.0218</td>\n",
              "    </tr>\n",
              "    <tr>\n",
              "      <th>2022-03-31</th>\n",
              "      <td>0.018977</td>\n",
              "      <td>0.031112</td>\n",
              "      <td>0.027212</td>\n",
              "      <td>0.012027</td>\n",
              "      <td>-0.012135</td>\n",
              "      <td>-0.015185</td>\n",
              "      <td>-0.0182</td>\n",
              "      <td>-0.0161</td>\n",
              "    </tr>\n",
              "  </tbody>\n",
              "</table>\n",
              "</div>\n",
              "      <button class=\"colab-df-convert\" onclick=\"convertToInteractive('df-6334a81b-037c-43a5-a4ee-e269cd026306')\"\n",
              "              title=\"Convert this dataframe to an interactive table.\"\n",
              "              style=\"display:none;\">\n",
              "        \n",
              "  <svg xmlns=\"http://www.w3.org/2000/svg\" height=\"24px\"viewBox=\"0 0 24 24\"\n",
              "       width=\"24px\">\n",
              "    <path d=\"M0 0h24v24H0V0z\" fill=\"none\"/>\n",
              "    <path d=\"M18.56 5.44l.94 2.06.94-2.06 2.06-.94-2.06-.94-.94-2.06-.94 2.06-2.06.94zm-11 1L8.5 8.5l.94-2.06 2.06-.94-2.06-.94L8.5 2.5l-.94 2.06-2.06.94zm10 10l.94 2.06.94-2.06 2.06-.94-2.06-.94-.94-2.06-.94 2.06-2.06.94z\"/><path d=\"M17.41 7.96l-1.37-1.37c-.4-.4-.92-.59-1.43-.59-.52 0-1.04.2-1.43.59L10.3 9.45l-7.72 7.72c-.78.78-.78 2.05 0 2.83L4 21.41c.39.39.9.59 1.41.59.51 0 1.02-.2 1.41-.59l7.78-7.78 2.81-2.81c.8-.78.8-2.07 0-2.86zM5.41 20L4 18.59l7.72-7.72 1.47 1.35L5.41 20z\"/>\n",
              "  </svg>\n",
              "      </button>\n",
              "      \n",
              "  <style>\n",
              "    .colab-df-container {\n",
              "      display:flex;\n",
              "      flex-wrap:wrap;\n",
              "      gap: 12px;\n",
              "    }\n",
              "\n",
              "    .colab-df-convert {\n",
              "      background-color: #E8F0FE;\n",
              "      border: none;\n",
              "      border-radius: 50%;\n",
              "      cursor: pointer;\n",
              "      display: none;\n",
              "      fill: #1967D2;\n",
              "      height: 32px;\n",
              "      padding: 0 0 0 0;\n",
              "      width: 32px;\n",
              "    }\n",
              "\n",
              "    .colab-df-convert:hover {\n",
              "      background-color: #E2EBFA;\n",
              "      box-shadow: 0px 1px 2px rgba(60, 64, 67, 0.3), 0px 1px 3px 1px rgba(60, 64, 67, 0.15);\n",
              "      fill: #174EA6;\n",
              "    }\n",
              "\n",
              "    [theme=dark] .colab-df-convert {\n",
              "      background-color: #3B4455;\n",
              "      fill: #D2E3FC;\n",
              "    }\n",
              "\n",
              "    [theme=dark] .colab-df-convert:hover {\n",
              "      background-color: #434B5C;\n",
              "      box-shadow: 0px 1px 3px 1px rgba(0, 0, 0, 0.15);\n",
              "      filter: drop-shadow(0px 1px 2px rgba(0, 0, 0, 0.3));\n",
              "      fill: #FFFFFF;\n",
              "    }\n",
              "  </style>\n",
              "\n",
              "      <script>\n",
              "        const buttonEl =\n",
              "          document.querySelector('#df-6334a81b-037c-43a5-a4ee-e269cd026306 button.colab-df-convert');\n",
              "        buttonEl.style.display =\n",
              "          google.colab.kernel.accessAllowed ? 'block' : 'none';\n",
              "\n",
              "        async function convertToInteractive(key) {\n",
              "          const element = document.querySelector('#df-6334a81b-037c-43a5-a4ee-e269cd026306');\n",
              "          const dataTable =\n",
              "            await google.colab.kernel.invokeFunction('convertToInteractive',\n",
              "                                                     [key], {});\n",
              "          if (!dataTable) return;\n",
              "\n",
              "          const docLinkHtml = 'Like what you see? Visit the ' +\n",
              "            '<a target=\"_blank\" href=https://colab.research.google.com/notebooks/data_table.ipynb>data table notebook</a>'\n",
              "            + ' to learn more about interactive tables.';\n",
              "          element.innerHTML = '';\n",
              "          dataTable['output_type'] = 'display_data';\n",
              "          await google.colab.output.renderOutput(dataTable, element);\n",
              "          const docLink = document.createElement('div');\n",
              "          docLink.innerHTML = docLinkHtml;\n",
              "          element.appendChild(docLink);\n",
              "        }\n",
              "      </script>\n",
              "    </div>\n",
              "  </div>\n",
              "  "
            ]
          },
          "metadata": {},
          "execution_count": 88
        }
      ],
      "source": [
        "ff_vwret=pd.merge(ff_vwret, ff[['hml', 'smb', 'dateff']], left_on='date', right_on='dateff')\n",
        "ff_factor=ff_vwret[['High', 'Low', 'Big', 'Small', 'HML', 'SMB', 'hml', 'smb', 'dateff']]\n",
        "ff_factor=ff_factor.set_index('dateff')\n",
        "ff_factor=ff_factor.rename({'hml': 'FF_HML', 'smb': 'FF_SMB'}, axis=1) \n",
        "ff_factor.tail(2)"
      ]
    },
    {
      "cell_type": "markdown",
      "id": "77c39b7c-b749-4b68-a734-d41276cfefd7",
      "metadata": {
        "id": "77c39b7c-b749-4b68-a734-d41276cfefd7"
      },
      "source": [
        "#### Correlation Analysis:"
      ]
    },
    {
      "cell_type": "code",
      "execution_count": null,
      "id": "d6eb2ec5-ce02-4166-9f37-74cb0017acff",
      "metadata": {
        "id": "d6eb2ec5-ce02-4166-9f37-74cb0017acff",
        "outputId": "c48f6d8b-53bb-4824-f3cc-d751cb45585e",
        "colab": {
          "base_uri": "https://localhost:8080/"
        }
      },
      "outputs": [
        {
          "output_type": "stream",
          "name": "stdout",
          "text": [
            "0.97098, 0.98667\n"
          ]
        }
      ],
      "source": [
        "print(\"{:.5f}, {:.5f}\".format(ff_factor['HML'].corr(ff_factor['FF_HML']), ff_factor['SMB'].corr(ff_factor['FF_SMB'])))"
      ]
    },
    {
      "cell_type": "markdown",
      "id": "985187d1-2b0b-4b52-90fb-ace3f049b070",
      "metadata": {
        "id": "985187d1-2b0b-4b52-90fb-ace3f049b070"
      },
      "source": [
        "#### Graphic Comparison:"
      ]
    },
    {
      "cell_type": "code",
      "execution_count": null,
      "id": "177745b1-9848-4c50-b2bb-93f4d2858126",
      "metadata": {
        "id": "177745b1-9848-4c50-b2bb-93f4d2858126"
      },
      "outputs": [],
      "source": [
        "ff_factor['Cumulative_HML']=(1 + ff_factor['HML']).cumprod() - 1  \n",
        "ff_factor['Cumulative_FF_HML']=(1 + ff_factor['FF_HML']).cumprod() - 1  \n",
        "ff_factor['Cumulative_SMB']=(1 + ff_factor['SMB']).cumprod() - 1  \n",
        "ff_factor['Cumulative_FF_SMB']=(1 + ff_factor['FF_SMB']).cumprod() - 1  \n",
        "\n",
        "ff_factor['Cumulative_Small']=(1 + ff_factor['Small']).cumprod() - 1  \n",
        "ff_factor['Cumulative_Big']=(1 + ff_factor['Big']).cumprod() - 1  \n",
        "ff_factor['Cumulative_High']=(1 + ff_factor['High']).cumprod() - 1  \n",
        "ff_factor['Cumulative_Low']=(1 + ff_factor['Low']).cumprod() - 1  "
      ]
    },
    {
      "cell_type": "code",
      "execution_count": null,
      "id": "229783b5-6ffd-44db-b439-49b3bf33273c",
      "metadata": {
        "id": "229783b5-6ffd-44db-b439-49b3bf33273c",
        "outputId": "78673abd-b3ce-4bc3-e882-c235c206945c",
        "colab": {
          "base_uri": "https://localhost:8080/",
          "height": 384
        }
      },
      "outputs": [
        {
          "output_type": "execute_result",
          "data": {
            "text/plain": [
              "<matplotlib.axes._subplots.AxesSubplot at 0x7f15e5f97890>"
            ]
          },
          "metadata": {},
          "execution_count": 91
        },
        {
          "output_type": "display_data",
          "data": {
            "text/plain": [
              "<Figure size 1080x432 with 1 Axes>"
            ],
            "image/png": "[encoded data removed]"
          },
          "metadata": {
            "needs_background": "light"
          }
        }
      ],
      "source": [
        "ff_factor[['Cumulative_Small','Cumulative_Big']].plot.area(figsize=(15,6), stacked=False, alpha=.6)"
      ]
    },
    {
      "cell_type": "code",
      "execution_count": null,
      "id": "eb56eeb7-b436-43b9-a1e5-37719c7beaab",
      "metadata": {
        "id": "eb56eeb7-b436-43b9-a1e5-37719c7beaab",
        "outputId": "54182968-cff1-4ed5-f373-344f9f34f108",
        "colab": {
          "base_uri": "https://localhost:8080/",
          "height": 384
        }
      },
      "outputs": [
        {
          "output_type": "execute_result",
          "data": {
            "text/plain": [
              "<matplotlib.axes._subplots.AxesSubplot at 0x7f15b9340910>"
            ]
          },
          "metadata": {},
          "execution_count": 92
        },
        {
          "output_type": "display_data",
          "data": {
            "text/plain": [
              "<Figure size 1080x432 with 1 Axes>"
            ],
            "image/png": "[encoded data removed]"
          },
          "metadata": {
            "needs_background": "light"
          }
        }
      ],
      "source": [
        "ff_factor[['Cumulative_High','Cumulative_Low']].plot.area(figsize=(15,6), stacked=False, alpha=.6)"
      ]
    },
    {
      "cell_type": "code",
      "execution_count": null,
      "id": "8a3aad75-6d50-4a57-be00-a55157cdb172",
      "metadata": {
        "id": "8a3aad75-6d50-4a57-be00-a55157cdb172",
        "outputId": "227967d0-8173-4b59-b0ef-12e314cd37fc",
        "colab": {
          "base_uri": "https://localhost:8080/",
          "height": 384
        }
      },
      "outputs": [
        {
          "output_type": "execute_result",
          "data": {
            "text/plain": [
              "<matplotlib.axes._subplots.AxesSubplot at 0x7f15e9174850>"
            ]
          },
          "metadata": {},
          "execution_count": 93
        },
        {
          "output_type": "display_data",
          "data": {
            "text/plain": [
              "<Figure size 1080x432 with 1 Axes>"
            ],
            "image/png": "[encoded data removed]"
          },
          "metadata": {
            "needs_background": "light"
          }
        }
      ],
      "source": [
        "ff_factor[['Cumulative_FF_HML','Cumulative_HML']].plot.line(figsize=(15,6), alpha=.8)"
      ]
    },
    {
      "cell_type": "code",
      "execution_count": null,
      "id": "d5fcbb2f-eecd-40e8-b15b-df4e8ceda358",
      "metadata": {
        "id": "d5fcbb2f-eecd-40e8-b15b-df4e8ceda358",
        "outputId": "36996a3f-d10a-42f6-dd04-a43ed40b1ce5",
        "colab": {
          "base_uri": "https://localhost:8080/",
          "height": 384
        }
      },
      "outputs": [
        {
          "output_type": "execute_result",
          "data": {
            "text/plain": [
              "<matplotlib.axes._subplots.AxesSubplot at 0x7f15e9394a90>"
            ]
          },
          "metadata": {},
          "execution_count": 94
        },
        {
          "output_type": "display_data",
          "data": {
            "text/plain": [
              "<Figure size 1080x432 with 1 Axes>"
            ],
            "image/png": "[encoded data removed]"
          },
          "metadata": {
            "needs_background": "light"
          }
        }
      ],
      "source": [
        "ff_factor[['Cumulative_FF_SMB','Cumulative_SMB']].plot.line(figsize=(15,6), alpha=.8) "
      ]
    },
    {
      "cell_type": "markdown",
      "id": "d3dd4213-05ac-411b-a2b2-266fb67fe7b4",
      "metadata": {
        "id": "d3dd4213-05ac-411b-a2b2-266fb67fe7b4"
      },
      "source": [
        "> Discrepancy or Limitations\n",
        "> - Adding delist return would not be sufficient to eliminate the look-forward bias in the monthly rebalance.\n",
        "> - Fama & French replaces the missing Compustat accounting items by Moody, so that their portfolios covering more firms.\n",
        "> ![FFM Universe](http://drive.google.com/uc?export=view&id=11uKYG-G_QxaZevtyAUtiLFtvfdGHkNWN)\n",
        "\n"
      ]
    }
  ],
  "metadata": {
    "kernelspec": {
      "display_name": "Python 3",
      "language": "python",
      "name": "python3"
    },
    "language_info": {
      "codemirror_mode": {
        "name": "ipython",
        "version": 3
      },
      "file_extension": ".py",
      "mimetype": "text/x-python",
      "name": "python",
      "nbconvert_exporter": "python",
      "pygments_lexer": "ipython3",
      "version": "3.9.5"
    },
    "colab": {
      "name": "Fama_French_1993_pub.ipynb",
      "provenance": [],
      "collapsed_sections": [],
      "toc_visible": true,
      "include_colab_link": true
    }
  },
  "nbformat": 4,
  "nbformat_minor": 5
}